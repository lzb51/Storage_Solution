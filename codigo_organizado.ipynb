{
  "nbformat": 4,
  "nbformat_minor": 0,
  "metadata": {
    "colab": {
      "provenance": []
    },
    "kernelspec": {
      "name": "python3",
      "display_name": "Python 3"
    },
    "language_info": {
      "name": "python"
    }
  },
  "cells": [
    {
      "cell_type": "markdown",
      "source": [
        "##Bibliotecas"
      ],
      "metadata": {
        "id": "YV_YpjFkirnW"
      }
    },
    {
      "cell_type": "code",
      "source": [
        "pip install py3dbp\n"
      ],
      "metadata": {
        "colab": {
          "base_uri": "https://localhost:8080/"
        },
        "id": "IHvrsy9Ziv55",
        "outputId": "4f8802d5-91c7-4211-db14-9d795965c28b"
      },
      "execution_count": 2,
      "outputs": [
        {
          "output_type": "stream",
          "name": "stdout",
          "text": [
            "Collecting py3dbp\n",
            "  Downloading py3dbp-1.1.2.tar.gz (4.3 kB)\n",
            "  Preparing metadata (setup.py) ... \u001b[?25l\u001b[?25hdone\n",
            "Building wheels for collected packages: py3dbp\n",
            "  Building wheel for py3dbp (setup.py) ... \u001b[?25l\u001b[?25hdone\n",
            "  Created wheel for py3dbp: filename=py3dbp-1.1.2-py3-none-any.whl size=4881 sha256=cd9feb62060c02a59ba0571db1f9bc3ef789f832007bbf81a8a666d5d56ee680\n",
            "  Stored in directory: /root/.cache/pip/wheels/f1/d7/0d/019e108d894325e502682cc704753a713ff2436a26b2409b31\n",
            "Successfully built py3dbp\n",
            "Installing collected packages: py3dbp\n",
            "Successfully installed py3dbp-1.1.2\n"
          ]
        }
      ]
    },
    {
      "cell_type": "code",
      "source": [
        "pip install plotly"
      ],
      "metadata": {
        "colab": {
          "base_uri": "https://localhost:8080/"
        },
        "id": "9AjHi40Lixg6",
        "outputId": "4799dec2-1374-4d53-8f5e-17e0ae62910e"
      },
      "execution_count": 3,
      "outputs": [
        {
          "output_type": "stream",
          "name": "stdout",
          "text": [
            "Requirement already satisfied: plotly in /usr/local/lib/python3.10/dist-packages (5.15.0)\n",
            "Requirement already satisfied: tenacity>=6.2.0 in /usr/local/lib/python3.10/dist-packages (from plotly) (8.2.3)\n",
            "Requirement already satisfied: packaging in /usr/local/lib/python3.10/dist-packages (from plotly) (23.1)\n"
          ]
        }
      ]
    },
    {
      "cell_type": "markdown",
      "source": [
        "## resposta com 3 digitos"
      ],
      "metadata": {
        "id": "CO-5Q75Aiznz"
      }
    },
    {
      "cell_type": "code",
      "source": [
        "from py3dbp import Packer, Bin, Item\n",
        "import re\n",
        "\n",
        "# Função para coletar informações sobre as caixas\n",
        "def coletar_informacoes_caixa(numero_caixas):\n",
        "    informacoes_caixas = []\n",
        "\n",
        "    for i in range(numero_caixas):\n",
        "        print(f\"\\nCaixa {i+1}:\")\n",
        "        altura = float(input(\"Qual é a altura da caixa em centímetros? \"))\n",
        "        largura = float(input(\"Qual é a largura da caixa em centímetros? \"))\n",
        "        profundidade = float(input(\"Qual é a profundidade da caixa em centímetros? \"))\n",
        "        peso = float(input(\"Qual é o peso da caixa em quilogramas? \"))\n",
        "\n",
        "        print(\"\\nEm uma escala de 1 a 5, o quão frágil é a caixa?\")\n",
        "        while True:\n",
        "            fragilidade = float(input(\"Digite um número de 1 a 5 (sendo 1 menos frágil e 5 mais frágil): \"))\n",
        "            if 1 <= fragilidade <= 5:\n",
        "                break\n",
        "            else:\n",
        "                print(\"Valor inválido! Digite um número entre 1 e 5.\")\n",
        "\n",
        "        informacoes_caixa = {\n",
        "            \"altura\": altura,\n",
        "            \"largura\": largura,\n",
        "            \"profundidade\": profundidade,\n",
        "            \"peso\": peso,\n",
        "            \"fragilidade\": fragilidade\n",
        "        }\n",
        "\n",
        "        informacoes_caixas.append(informacoes_caixa)\n",
        "\n",
        "    return informacoes_caixas\n",
        "\n",
        "# Função para coletar informações sobre o recipiente (bin) e calcular o peso do bin\n",
        "def coletar_informacoes_bin(caixas):\n",
        "    bin = {}\n",
        "    altura = float(input(\"Qual é a altura do bin em centímetros? \"))\n",
        "    largura = float(input(\"Qual é a largura do bin em centímetros? \"))\n",
        "    profundidade = float(input(\"Qual é a profundidade do bin em centímetros? \"))\n",
        "\n",
        "    # Calcular o peso do bin como 10 vezes o peso da caixa mais pesada\n",
        "    peso_caixa_mais_pesada = max(caixas, key=lambda x: x[\"peso\"])[\"peso\"]\n",
        "    peso_bin = peso_caixa_mais_pesada * 10\n",
        "\n",
        "    bin[\"altura\"] = altura\n",
        "    bin[\"largura\"] = largura\n",
        "    bin[\"profundidade\"] = profundidade\n",
        "    bin[\"peso\"] = peso_bin\n",
        "\n",
        "    return bin\n",
        "\n",
        "# Função para empacotar as caixas\n",
        "def bin_packing(bin, caixas):\n",
        "    packer = Packer()\n",
        "    packer.add_bin(Bin('large-box', bin[\"largura\"], bin[\"altura\"], bin[\"profundidade\"], bin[\"peso\"]))\n",
        "\n",
        "    for i, caixa in enumerate(caixas):\n",
        "        packer.add_item(Item(f'caixa {i}', caixa[\"largura\"], caixa[\"altura\"], caixa[\"profundidade\"], caixa[\"peso\"]))\n",
        "\n",
        "    packer.pack()\n",
        "\n",
        "    responses = []\n",
        "\n",
        "    for b in packer.bins:\n",
        "        for item in b.items:\n",
        "            responses.append(item.string())\n",
        "\n",
        "    for item in b.unfitted_items:\n",
        "        print(\"====> \", item.string())\n",
        "\n",
        "    # Extrair os valores de x, y e z para cada caixa\n",
        "    coordenadas_caixas = []\n",
        "    for response in responses:\n",
        "        # Usar expressão regular para extrair as coordenadas\n",
        "        match = re.search(r'pos\\((.*?)\\)', response)\n",
        "        if match:\n",
        "            coordenadas_caixa = match.group(1)\n",
        "            coordenadas_caixa = re.findall(r'-?\\d+', coordenadas_caixa)[:3]  # Extrair os três primeiros números inteiros\n",
        "            coordenadas_caixa = [int(coord) if coord else 0 for coord in coordenadas_caixa]  # Substituir por 0 se não houver número\n",
        "            coordenadas_caixa += [0] * (3 - len(coordenadas_caixa))  # Adicionar zeros para garantir três números\n",
        "            coordenadas_caixas.append(coordenadas_caixa)\n",
        "\n",
        "    return coordenadas_caixas\n",
        "\n",
        "# Função principal para empacotar caixas\n",
        "def empacotar_caixas():\n",
        "    # Coletar informações sobre as caixas\n",
        "    num_caixas = int(input(\"Quantas caixas você deseja empacotar? \"))\n",
        "    caixas_info = coletar_informacoes_caixa(num_caixas)\n",
        "\n",
        "    # Coletar informações sobre o recipiente (bin) e calcular o peso do bin\n",
        "    bin_info = coletar_informacoes_bin(caixas_info)\n",
        "\n",
        "    # Executar o empacotamento\n",
        "    coordenadas_caixas = bin_packing(bin_info, caixas_info)\n",
        "\n",
        "    # Imprimir as coordenadas das caixas empacotadas\n",
        "    for i, coordenadas in enumerate(coordenadas_caixas):\n",
        "        print(f'Caixa {i} - Posição (x, y, z): {coordenadas}')\n",
        "\n",
        "# Chamar a função principal para empacotar as caixas\n",
        "empacotar_caixas()\n",
        "\n"
      ],
      "metadata": {
        "id": "1B08IFfmi6CH"
      },
      "execution_count": null,
      "outputs": []
    },
    {
      "cell_type": "markdown",
      "source": [
        "##grafico base"
      ],
      "metadata": {
        "id": "4-GMGjwjjAAT"
      }
    },
    {
      "cell_type": "code",
      "source": [
        "import plotly.graph_objects as go\n",
        "\n",
        "# Dimensões da caixa\n",
        "x_length = 11000\n",
        "y_length = 8500\n",
        "z_length = 5500\n",
        "\n",
        "# Pontos da caixa\n",
        "x = [-x_length/2, -x_length/2, x_length/2, x_length/2, -x_length/2, -x_length/2, x_length/2, x_length/2]\n",
        "y = [-y_length/2, y_length/2, y_length/2, -y_length/2, -y_length/2, y_length/2, y_length/2, -y_length/2]\n",
        "z = [-z_length/2, -z_length/2, -z_length/2, -z_length/2, z_length/2, z_length/2, z_length/2, z_length/2]\n",
        "\n",
        "# Definição das arestas da caixa\n",
        "edges = [\n",
        "    [0, 1], [1, 2], [2, 3], [3, 0],  # Arestas da face inferior\n",
        "    [4, 5], [5, 6], [6, 7], [7, 4],  # Arestas da face superior\n",
        "    [0, 4], [1, 5], [2, 6], [3, 7],   # Arestas verticais\n",
        "    [4, 6], [5, 7]                    # Arestas horizontais\n",
        "]\n",
        "\n",
        "# Criação do gráfico 3D interativo com a caixa\n",
        "fig = go.Figure(data=[\n",
        "    go.Scatter3d(\n",
        "        x=x,\n",
        "        y=y,\n",
        "        z=z,\n",
        "        mode='lines',\n",
        "        line=dict(color='blue', width=3)\n",
        "    )\n",
        "])\n",
        "\n",
        "# Adição das arestas extras para conectar a caixa\n",
        "for edge in edges:\n",
        "    x_edge = [x[edge[0]], x[edge[1]]]\n",
        "    y_edge = [y[edge[0]], y[edge[1]]]\n",
        "    z_edge = [z[edge[0]], z[edge[1]]]\n",
        "    fig.add_trace(go.Scatter3d(\n",
        "        x=x_edge,\n",
        "        y=y_edge,\n",
        "        z=z_edge,\n",
        "        mode='lines',\n",
        "        line=dict(color='blue', width=3)\n",
        "    ))\n",
        "\n",
        "# Configuração dos rótulos dos eixos\n",
        "fig.update_layout(\n",
        "    scene=dict(\n",
        "        xaxis=dict(title='Eixo X', range=[-15000, 15000]),\n",
        "        yaxis=dict(title='Eixo Y', range=[-10000, 10000]),\n",
        "        zaxis=dict(title='Eixo Z', range=[-7500, 7500]),\n",
        "        aspectmode='cube'\n",
        "    )\n",
        ")\n",
        "\n",
        "# Exibição do gráfico interativo\n",
        "fig.show()\n"
      ],
      "metadata": {
        "id": "NErKajCsi8fI"
      },
      "execution_count": null,
      "outputs": []
    },
    {
      "cell_type": "markdown",
      "source": [],
      "metadata": {
        "id": "ddDWjCp8jDrF"
      }
    },
    {
      "cell_type": "markdown",
      "source": [
        "##coleta informações caixas"
      ],
      "metadata": {
        "id": "_-5oqZZLjFNl"
      }
    },
    {
      "cell_type": "code",
      "source": [
        "from py3dbp import Packer, Bin, Item\n",
        "import re\n",
        "def coletar_informacoes_caixa(numero_caixas):\n",
        "    informacoes_caixas = []\n",
        "\n",
        "    for i in range(numero_caixas):\n",
        "        print(f\"\\nCaixa {i+1}:\")\n",
        "        altura = input(\"Qual é a altura da caixa em centímetros? \").replace(',', '.')\n",
        "        largura = input(\"Qual é a largura da caixa em centímetros? \").replace(',', '.')\n",
        "        profundidade = input(\"Qual é a profundidade da caixa em centímetros? \").replace(',', '.')\n",
        "        peso = input(\"Qual é o peso da caixa em quilogramas? \").replace(',', '.')\n",
        "\n",
        "        print(\"\\nEm uma escala de 1 a 5, o quão frágil é a caixa?\")\n",
        "        while True:\n",
        "            fragilidade = input(\"Digite um número de 1 a 5 (sendo 1 menos frágil e 5 mais frágil): \").replace(',', '.')\n",
        "            try:\n",
        "                fragilidade = float(fragilidade)\n",
        "                if 1 <= fragilidade <= 5:\n",
        "                    break\n",
        "                else:\n",
        "                    print(\"Valor inválido! Digite um número entre 1 e 5.\")\n",
        "            except ValueError:\n",
        "                print(\"Valor inválido! Digite um número válido.\")\n",
        "\n",
        "        informacoes_caixa = {\n",
        "            \"altura\": float(altura),\n",
        "            \"largura\": float(largura),\n",
        "            \"profundidade\": float(profundidade),\n",
        "            \"peso\": float(peso),\n",
        "            \"fragilidade\": fragilidade\n",
        "        }\n",
        "\n",
        "        informacoes_caixas.append(informacoes_caixa)\n",
        "\n",
        "    return informacoes_caixas\n"
      ],
      "metadata": {
        "id": "LjOilj2hf8jT"
      },
      "execution_count": 13,
      "outputs": []
    },
    {
      "cell_type": "code",
      "source": [
        "def coletar():\n",
        "    # Coletar informações sobre as caixas\n",
        "    num_caixas = int(input(\"Quantas caixas você deseja empacotar? \"))\n",
        "    caixas_info = coletar_informacoes_caixa(num_caixas)\n",
        "\n",
        "    #TO-DO add validation on parameters\n",
        "\n",
        "    # Coletar informações sobre o recipiente (bin) e calcular o peso do bin\n",
        "    bin_info = coletar_informacoes_bin(caixas_info)\n",
        "    return (caixas_info, bin_info)\n"
      ],
      "metadata": {
        "id": "rFwF6bi0jlyA"
      },
      "execution_count": 5,
      "outputs": []
    },
    {
      "cell_type": "markdown",
      "source": [
        "##coleta informações bin"
      ],
      "metadata": {
        "id": "EHSu2q6YjfXl"
      }
    },
    {
      "cell_type": "code",
      "source": [
        "def coletar_informacoes_bin(caixas):\n",
        "    bin = {}\n",
        "    altura = input(\"Qual é a altura do bin em centímetros? \").replace(',', '.')\n",
        "    largura = input(\"Qual é a largura do bin em centímetros? \").replace(',', '.')\n",
        "    profundidade = input(\"Qual é a profundidade do bin em centímetros? \").replace(',', '.')\n",
        "\n",
        "    try:\n",
        "        altura = float(altura)\n",
        "        largura = float(largura)\n",
        "        profundidade = float(profundidade)\n",
        "    except ValueError:\n",
        "        print(\"Valores inválidos! Certifique-se de digitar números válidos.\")\n",
        "        return None\n",
        "\n",
        "    # Calcular o peso do bin como 10 vezes o peso da caixa mais pesada\n",
        "    peso_caixa_mais_pesada = max(caixas, key=lambda x: x[\"peso\"])[\"peso\"]\n",
        "    peso_bin = peso_caixa_mais_pesada * 10\n",
        "\n",
        "    bin[\"altura\"] = altura\n",
        "    bin[\"largura\"] = largura\n",
        "    bin[\"profundidade\"] = profundidade\n",
        "    bin[\"peso\"] = peso_bin\n",
        "\n",
        "    return bin\n"
      ],
      "metadata": {
        "id": "6UpFP5-Zg5ba"
      },
      "execution_count": 21,
      "outputs": []
    },
    {
      "cell_type": "markdown",
      "source": [
        "##pensamento logico para coordenadas"
      ],
      "metadata": {
        "id": "Dcj1sJ4Ejndh"
      }
    },
    {
      "cell_type": "code",
      "source": [
        "def bin_packing(bin, caixas):\n",
        "    packer = Packer()\n",
        "    packer.add_bin(Bin('large-box', bin[\"largura\"], bin[\"altura\"], bin[\"profundidade\"], bin[\"peso\"]))\n",
        "\n",
        "    for i, caixa in enumerate(caixas):\n",
        "        packer.add_item(Item(f'caixa {i}', caixa[\"largura\"], caixa[\"altura\"], caixa[\"profundidade\"], caixa[\"peso\"]))\n",
        "\n",
        "    packer.pack()\n",
        "\n",
        "    responses = []\n",
        "\n",
        "    for b in packer.bins:\n",
        "        for item in b.items:\n",
        "            responses.append(item.string())\n",
        "\n",
        "    for item in b.unfitted_items:\n",
        "        print(\"====> \", item.string())\n",
        "\n",
        "    # Extrair os valores de x, y e z para cada caixa\n",
        "    coordenadas_caixas = []\n",
        "    for response in responses:\n",
        "        # Usar expressão regular para extrair as coordenadas\n",
        "        match = re.search(r'pos\\((.*?)\\)', response)\n",
        "        if match:\n",
        "            coordenadas_caixa = match.group(1)\n",
        "            coordenadas_caixa = re.findall(r'-?\\d+', coordenadas_caixa)[:3]  # Extrair os três primeiros números inteiros\n",
        "            coordenadas_caixa = [int(coord) if coord else 0 for coord in coordenadas_caixa]  # Substituir por 0 se não houver número\n",
        "            coordenadas_caixa += [0] * (3 - len(coordenadas_caixa))  # Adicionar zeros para garantir três números\n",
        "            coordenadas_caixas.append(coordenadas_caixa)\n",
        "\n",
        "    return coordenadas_caixas"
      ],
      "metadata": {
        "id": "k56EM2gXjmlx"
      },
      "execution_count": 22,
      "outputs": []
    },
    {
      "cell_type": "markdown",
      "source": [
        "##função perguntar para coletar os dados"
      ],
      "metadata": {
        "id": "8PUcEXSYj2rK"
      }
    },
    {
      "cell_type": "code",
      "source": [
        "caixas_info, bin_info = coletar()"
      ],
      "metadata": {
        "colab": {
          "base_uri": "https://localhost:8080/"
        },
        "id": "sOWXr3jMjutf",
        "outputId": "1d544c38-0276-43f4-e040-edb53dea6f18"
      },
      "execution_count": 23,
      "outputs": [
        {
          "name": "stdout",
          "output_type": "stream",
          "text": [
            "Quantas caixas você deseja empacotar? 1\n",
            "\n",
            "Caixa 1:\n",
            "Qual é a altura da caixa em centímetros? 1\n",
            "Qual é a largura da caixa em centímetros? 1\n",
            "Qual é a profundidade da caixa em centímetros? 1\n",
            "Qual é o peso da caixa em quilogramas? 1\n",
            "\n",
            "Em uma escala de 1 a 5, o quão frágil é a caixa?\n",
            "Digite um número de 1 a 5 (sendo 1 menos frágil e 5 mais frágil): 1\n",
            "Qual é a altura do bin em centímetros? 15,7\n",
            "Qual é a largura do bin em centímetros? 18,9\n",
            "Qual é a profundidade do bin em centímetros? 17,6\n"
          ]
        }
      ]
    },
    {
      "cell_type": "markdown",
      "source": [
        "##onde estao os dados"
      ],
      "metadata": {
        "id": "M_vG6l3JkEFT"
      }
    },
    {
      "cell_type": "code",
      "source": [
        "caixas_info"
      ],
      "metadata": {
        "colab": {
          "base_uri": "https://localhost:8080/"
        },
        "id": "9CiHu3Zoj792",
        "outputId": "9474b02a-692d-4912-8d4d-fa4ba279064e"
      },
      "execution_count": 24,
      "outputs": [
        {
          "output_type": "execute_result",
          "data": {
            "text/plain": [
              "[{'altura': 1.0,\n",
              "  'largura': 1.0,\n",
              "  'profundidade': 1.0,\n",
              "  'peso': 1.0,\n",
              "  'fragilidade': 1.0}]"
            ]
          },
          "metadata": {},
          "execution_count": 24
        }
      ]
    },
    {
      "cell_type": "code",
      "source": [
        "bin_info"
      ],
      "metadata": {
        "colab": {
          "base_uri": "https://localhost:8080/"
        },
        "id": "mT1aoc0aj-dZ",
        "outputId": "9e652243-731f-489d-c3b6-98bdf8df4e79"
      },
      "execution_count": 25,
      "outputs": [
        {
          "output_type": "execute_result",
          "data": {
            "text/plain": [
              "{'altura': 15.7, 'largura': 18.9, 'profundidade': 17.6, 'peso': 10.0}"
            ]
          },
          "metadata": {},
          "execution_count": 25
        }
      ]
    },
    {
      "cell_type": "code",
      "source": [
        "coordenadas_caixas = bin_packing(bin_info, caixas_info)"
      ],
      "metadata": {
        "id": "1wO84VDtj_CZ"
      },
      "execution_count": 26,
      "outputs": []
    },
    {
      "cell_type": "code",
      "source": [
        "coordenadas_caixas"
      ],
      "metadata": {
        "colab": {
          "base_uri": "https://localhost:8080/"
        },
        "id": "pqB0DCwskAt5",
        "outputId": "52d1f0d6-4c16-44fc-e8d9-d60cefd89ba9"
      },
      "execution_count": 27,
      "outputs": [
        {
          "output_type": "execute_result",
          "data": {
            "text/plain": [
              "[[0, 0, 0]]"
            ]
          },
          "metadata": {},
          "execution_count": 27
        }
      ]
    },
    {
      "cell_type": "markdown",
      "source": [
        "##não lembro o que faz mas n quero perder"
      ],
      "metadata": {
        "id": "xjHtBaA_krHh"
      }
    },
    {
      "cell_type": "code",
      "source": [
        "def plot_chart(coordenadas_caixas, caixas_info, bin_info):\n",
        "    fig = go.Figure()\n",
        "\n",
        "    # Adicionar as caixas empacotadas no gráfico\n",
        "    for caixa_coordenadas, caixa in zip(coordenadas_caixas, caixas_info):\n",
        "        x, y, z = caixa_coordenadas\n",
        "        largura = caixa[\"largura\"]\n",
        "        profundidade = caixa[\"profundidade\"]\n",
        "        altura = caixa[\"altura\"]\n",
        "        fig.add_trace(go.Mesh3d(\n",
        "            x=[x, x, x + largura, x + largura, x, x, x + largura, x + largura],\n",
        "\n",
        "\n",
        "            z=[y, y + profundidade, y + profundidade, y, y, y + profundidade, y + profundidade, y],\n",
        "            y=[z, z, z, z, z + altura, z + altura, z + altura, z + altura],\n",
        "            opacity=0.5,\n",
        "            color='blue'\n",
        "        ))\n",
        "\n",
        "    # Configuração dos rótulos dos eixos e limites com base nas dimensões do bin\n",
        "    fig.update_layout(\n",
        "        scene=dict(\n",
        "            xaxis=dict(title='Eixo X', range=[0, bin_info[\"largura\"]]),\n",
        "            yaxis=dict(title='Eixo Y', range=[0, bin_info[\"profundidade\"]]),\n",
        "            zaxis=dict(title='Eixo Z', range=[0,  bin_info[\"altura\"]\n",
        "]),\n",
        "            aspectmode='cube'\n",
        "        )\n",
        "    )\n",
        "\n",
        "    # Exibição do gráfico interativo\n",
        "    fig.show()"
      ],
      "metadata": {
        "id": "-SmIlaRIkLU3"
      },
      "execution_count": null,
      "outputs": []
    },
    {
      "cell_type": "markdown",
      "source": [
        "##base do grafico"
      ],
      "metadata": {
        "id": "JWT6mdzvkwVT"
      }
    },
    {
      "cell_type": "code",
      "source": [
        "def combinar_coordenadas(coordenadas_caixas, caixas_info, bin_info):\n",
        "\n",
        "\n",
        "\n",
        "    # Elemento 1\n",
        "    ([0, 4, 4, 0, 0, 4, 4, 0, 0, 0, 4, 4, 4, 4, 0, 0],\n",
        "     [0, 0, 3, 3, 0, 0, 3, 3, 0, 0, 0, 0, 3, 3, 3, 3],\n",
        "     [0, 0, 0, 0, 3, 3, 3, 3, 0, 3, 0, 3, 0, 3, 0, 3],\n",
        "     [(0, 1), (1, 2), (2, 3), (3, 0), (4, 5), (5, 6), (6, 7), (7, 4), (8, 9), (10, 11), (12, 13), (14, 15)]),\n",
        "\n",
        "    # Elemento 2\n",
        "    ([10, 14, 14, 10, 10, 14, 14, 10, 10, 10, 14, 14, 14, 14, 10, 10],\n",
        "     [10, 10, 13, 13, 10, 10, 13, 13, 10, 10, 10, 10, 13, 13, 13, 13],\n",
        "     [10, 10, 10, 10, 13, 13, 13, 13, 10, 13, 10, 13, 10, 13, 10, 13],\n",
        "     [(0, 1), (1, 2), (2, 3), (3, 0), (4, 5), (5, 6), (6, 7), (7, 4), (8, 9), (10, 11), (12, 13), (14, 15)]),\n",
        "\n",
        "\n",
        "\n"
      ],
      "metadata": {
        "id": "FtF_TTGOkvsz"
      },
      "execution_count": null,
      "outputs": []
    },
    {
      "cell_type": "markdown",
      "source": [
        "##o que vai aparecer"
      ],
      "metadata": {
        "id": "T8o-y20rk2bB"
      }
    },
    {
      "cell_type": "code",
      "source": [
        "data_list = (\n",
        "    [0, 4, 4, 0, 0, 4, 4, 0, 0, 0, 4, 4, 4, 4, 0, 0],\n",
        "    [0, 0, 3, 3, 0, 0, 3, 3, 0, 0, 0, 0, 3, 3, 3, 3],\n",
        "    [0, 0, 0, 0, 3, 3, 3, 3, 0, 3, 0, 3, 0, 3, 0, 3],\n",
        "    [(0, 1), (1, 2), (2, 3), (3, 0), (4, 5), (5, 6), (6, 7), (7, 4), (8, 9), (10, 11), (12, 13), (14, 15)]\n",
        ")\n"
      ],
      "metadata": {
        "id": "BVnN7wzI00qP"
      },
      "execution_count": null,
      "outputs": []
    },
    {
      "cell_type": "code",
      "source": [
        "from py3dbp import Packer, Bin, Item\n",
        "import re\n",
        "import plotly.graph_objects as go\n",
        "\n",
        "\n",
        "def empacotar_caixas():\n",
        "  caixas_info, bin_info = coletar()\n",
        "  coordenadas_caixas = bin_packing(bin_info, caixas_info)\n",
        "  data_list = combinar_coordenadas(coordenadas_caixas, caixas_info, bin_info)\n",
        "  plot_multiple_3d_graphs(data_list)\n",
        "empacotar_caixas()"
      ],
      "metadata": {
        "colab": {
          "base_uri": "https://localhost:8080/",
          "height": 373
        },
        "id": "wARuQXCgk1df",
        "outputId": "89b6c03d-d510-419a-cb38-fa9734ca2b59"
      },
      "execution_count": null,
      "outputs": [
        {
          "name": "stdout",
          "output_type": "stream",
          "text": [
            "Quantas caixas você deseja empacotar? \n"
          ]
        },
        {
          "output_type": "error",
          "ename": "ValueError",
          "evalue": "ignored",
          "traceback": [
            "\u001b[0;31m---------------------------------------------------------------------------\u001b[0m",
            "\u001b[0;31mValueError\u001b[0m                                Traceback (most recent call last)",
            "\u001b[0;32m<ipython-input-50-e6eacd8d19a4>\u001b[0m in \u001b[0;36m<cell line: 11>\u001b[0;34m()\u001b[0m\n\u001b[1;32m      9\u001b[0m   \u001b[0mdata_list\u001b[0m \u001b[0;34m=\u001b[0m \u001b[0mcombinar_coordenadas\u001b[0m\u001b[0;34m(\u001b[0m\u001b[0mcoordenadas_caixas\u001b[0m\u001b[0;34m,\u001b[0m \u001b[0mcaixas_info\u001b[0m\u001b[0;34m,\u001b[0m \u001b[0mbin_info\u001b[0m\u001b[0;34m)\u001b[0m\u001b[0;34m\u001b[0m\u001b[0;34m\u001b[0m\u001b[0m\n\u001b[1;32m     10\u001b[0m   \u001b[0;31m#plot_multiple_3d_graphs(data_list)\u001b[0m\u001b[0;34m\u001b[0m\u001b[0;34m\u001b[0m\u001b[0m\n\u001b[0;32m---> 11\u001b[0;31m \u001b[0mempacotar_caixas\u001b[0m\u001b[0;34m(\u001b[0m\u001b[0;34m)\u001b[0m\u001b[0;34m\u001b[0m\u001b[0;34m\u001b[0m\u001b[0m\n\u001b[0m",
            "\u001b[0;32m<ipython-input-50-e6eacd8d19a4>\u001b[0m in \u001b[0;36mempacotar_caixas\u001b[0;34m()\u001b[0m\n\u001b[1;32m      5\u001b[0m \u001b[0;34m\u001b[0m\u001b[0m\n\u001b[1;32m      6\u001b[0m \u001b[0;32mdef\u001b[0m \u001b[0mempacotar_caixas\u001b[0m\u001b[0;34m(\u001b[0m\u001b[0;34m)\u001b[0m\u001b[0;34m:\u001b[0m\u001b[0;34m\u001b[0m\u001b[0;34m\u001b[0m\u001b[0m\n\u001b[0;32m----> 7\u001b[0;31m   \u001b[0mcaixas_info\u001b[0m\u001b[0;34m,\u001b[0m \u001b[0mbin_info\u001b[0m \u001b[0;34m=\u001b[0m \u001b[0mcoletar\u001b[0m\u001b[0;34m(\u001b[0m\u001b[0;34m)\u001b[0m\u001b[0;34m\u001b[0m\u001b[0;34m\u001b[0m\u001b[0m\n\u001b[0m\u001b[1;32m      8\u001b[0m   \u001b[0mcoordenadas_caixas\u001b[0m \u001b[0;34m=\u001b[0m \u001b[0mbin_packing\u001b[0m\u001b[0;34m(\u001b[0m\u001b[0mbin_info\u001b[0m\u001b[0;34m,\u001b[0m \u001b[0mcaixas_info\u001b[0m\u001b[0;34m)\u001b[0m\u001b[0;34m\u001b[0m\u001b[0;34m\u001b[0m\u001b[0m\n\u001b[1;32m      9\u001b[0m   \u001b[0mdata_list\u001b[0m \u001b[0;34m=\u001b[0m \u001b[0mcombinar_coordenadas\u001b[0m\u001b[0;34m(\u001b[0m\u001b[0mcoordenadas_caixas\u001b[0m\u001b[0;34m,\u001b[0m \u001b[0mcaixas_info\u001b[0m\u001b[0;34m,\u001b[0m \u001b[0mbin_info\u001b[0m\u001b[0;34m)\u001b[0m\u001b[0;34m\u001b[0m\u001b[0;34m\u001b[0m\u001b[0m\n",
            "\u001b[0;32m<ipython-input-29-60f9b12e4016>\u001b[0m in \u001b[0;36mcoletar\u001b[0;34m()\u001b[0m\n\u001b[1;32m      1\u001b[0m \u001b[0;32mdef\u001b[0m \u001b[0mcoletar\u001b[0m\u001b[0;34m(\u001b[0m\u001b[0;34m)\u001b[0m\u001b[0;34m:\u001b[0m\u001b[0;34m\u001b[0m\u001b[0;34m\u001b[0m\u001b[0m\n\u001b[1;32m      2\u001b[0m     \u001b[0;31m# Coletar informações sobre as caixas\u001b[0m\u001b[0;34m\u001b[0m\u001b[0;34m\u001b[0m\u001b[0m\n\u001b[0;32m----> 3\u001b[0;31m     \u001b[0mnum_caixas\u001b[0m \u001b[0;34m=\u001b[0m \u001b[0mint\u001b[0m\u001b[0;34m(\u001b[0m\u001b[0minput\u001b[0m\u001b[0;34m(\u001b[0m\u001b[0;34m\"Quantas caixas você deseja empacotar? \"\u001b[0m\u001b[0;34m)\u001b[0m\u001b[0;34m)\u001b[0m\u001b[0;34m\u001b[0m\u001b[0;34m\u001b[0m\u001b[0m\n\u001b[0m\u001b[1;32m      4\u001b[0m     \u001b[0mcaixas_info\u001b[0m \u001b[0;34m=\u001b[0m \u001b[0mcoletar_informacoes_caixa\u001b[0m\u001b[0;34m(\u001b[0m\u001b[0mnum_caixas\u001b[0m\u001b[0;34m)\u001b[0m\u001b[0;34m\u001b[0m\u001b[0;34m\u001b[0m\u001b[0m\n\u001b[1;32m      5\u001b[0m \u001b[0;34m\u001b[0m\u001b[0m\n",
            "\u001b[0;31mValueError\u001b[0m: invalid literal for int() with base 10: ''"
          ]
        }
      ]
    },
    {
      "cell_type": "code",
      "source": [
        "import plotly.graph_objects as go\n",
        "import random\n",
        "\n",
        "def plot_multiple_3d_graphs(data_list):\n",
        "    # Criar a figura\n",
        "    fig = go.Figure()\n",
        "\n",
        "    for data in data_list:\n",
        "        x, y, z, arestas = data\n",
        "        color = \"#{:02x}{:02x}{:02x}\".format(random.randint(0, 255), random.randint(0, 255), random.randint(0, 255))\n",
        "\n",
        "        # Adicionar os vértices\n",
        "        fig.add_trace(go.Scatter3d(\n",
        "            x=x,\n",
        "            y=y,\n",
        "            z=z,\n",
        "            mode='markers+text',\n",
        "            marker=dict(size=4, color=color),\n",
        "        ))\n",
        "\n",
        "        # Adicionar as arestas\n",
        "        for aresta in arestas:\n",
        "            fig.add_trace(go.Scatter3d(\n",
        "                x=[x[i] for i in aresta],\n",
        "                y=[y[i] for i in aresta],\n",
        "                z=[z[i] for i in aresta],\n",
        "                mode='lines',\n",
        "                line=dict(color=color, width=3)\n",
        "            ))\n",
        "\n",
        "    # Definir os intervalos dos eixos (ajuste conforme necessário)\n",
        "    fig.update_layout(\n",
        "        scene=dict(\n",
        "            xaxis=dict(range=[-1, 5]),\n",
        "            yaxis=dict(range=[-1, 4]),\n",
        "            zaxis=dict(range=[-1, 4]),\n",
        "        )\n",
        "    )\n",
        "\n",
        "    # Definir os intervalos dos eixos\n",
        "    fig.update_layout(\n",
        "        scene=dict(\n",
        "            xaxis=dict(range=[0, 30]),\n",
        "            yaxis=dict(range=[0, 40]),\n",
        "            zaxis=dict(range=[0, 50])\n",
        "        )\n",
        "    )\n",
        "\n",
        "    # Mostrar a figura\n",
        "    fig.show()\n",
        "\n",
        "# Exemplo com 3 elementos na lista de dados\n",
        "data_list = [\n",
        "    # Elemento 1\n",
        "    ([0, 4, 4, 0, 0, 4, 4, 0, 0, 0, 4, 4, 4, 4, 0, 0],\n",
        "     [0, 0, 3, 3, 0, 0, 3, 3, 0, 0, 0, 0, 3, 3, 3, 3],\n",
        "     [0, 0, 0, 0, 3, 3, 3, 3, 0, 3, 0, 3, 0, 3, 0, 3],\n",
        "     [(0, 1), (1, 2), (2, 3), (3, 0), (4, 5), (5, 6), (6, 7), (7, 4), (8, 9), (10, 11), (12, 13), (14, 15)]),\n",
        "\n",
        "    # Elemento 2\n",
        "    ([10, 14, 14, 10, 10, 14, 14, 10, 10, 10, 14, 14, 14, 14, 10, 10],\n",
        "     [10, 10, 13, 13, 10, 10, 13, 13, 10, 10, 10, 10, 13, 13, 13, 13],\n",
        "     [10, 10, 10, 10, 13, 13, 13, 13, 10, 13, 10, 13, 10, 13, 10, 13],\n",
        "     [(0, 1), (1, 2), (2, 3), (3, 0), (4, 5), (5, 6), (6, 7), (7, 4), (8, 9), (10, 11), (12, 13), (14, 15)]),\n",
        "\n",
        "\n",
        "]\n",
        "\n",
        "plot_multiple_3d_graphs(data_list)\n"
      ],
      "metadata": {
        "colab": {
          "base_uri": "https://localhost:8080/",
          "height": 542
        },
        "id": "fWE5HY_U-dca",
        "outputId": "a4af503d-62e4-426c-dfd5-1d3d58102193"
      },
      "execution_count": 39,
      "outputs": [
        {
          "output_type": "display_data",
          "data": {
            "text/html": [
              "<html>\n",
              "<head><meta charset=\"utf-8\" /></head>\n",
              "<body>\n",
              "    <div>            <script src=\"https://cdnjs.cloudflare.com/ajax/libs/mathjax/2.7.5/MathJax.js?config=TeX-AMS-MML_SVG\"></script><script type=\"text/javascript\">if (window.MathJax && window.MathJax.Hub && window.MathJax.Hub.Config) {window.MathJax.Hub.Config({SVG: {font: \"STIX-Web\"}});}</script>                <script type=\"text/javascript\">window.PlotlyConfig = {MathJaxConfig: 'local'};</script>\n",
              "        <script charset=\"utf-8\" src=\"https://cdn.plot.ly/plotly-2.24.1.min.js\"></script>                <div id=\"d359973f-0f4f-4ff1-9300-d2da7e27598c\" class=\"plotly-graph-div\" style=\"height:525px; width:100%;\"></div>            <script type=\"text/javascript\">                                    window.PLOTLYENV=window.PLOTLYENV || {};                                    if (document.getElementById(\"d359973f-0f4f-4ff1-9300-d2da7e27598c\")) {                    Plotly.newPlot(                        \"d359973f-0f4f-4ff1-9300-d2da7e27598c\",                        [{\"marker\":{\"color\":\"#1b9047\",\"size\":4},\"mode\":\"markers+text\",\"x\":[0,4,4,0,0,4,4,0,0,0,4,4,4,4,0,0],\"y\":[0,0,3,3,0,0,3,3,0,0,0,0,3,3,3,3],\"z\":[0,0,0,0,3,3,3,3,0,3,0,3,0,3,0,3],\"type\":\"scatter3d\"},{\"line\":{\"color\":\"#1b9047\",\"width\":3},\"mode\":\"lines\",\"x\":[0,4],\"y\":[0,0],\"z\":[0,0],\"type\":\"scatter3d\"},{\"line\":{\"color\":\"#1b9047\",\"width\":3},\"mode\":\"lines\",\"x\":[4,4],\"y\":[0,3],\"z\":[0,0],\"type\":\"scatter3d\"},{\"line\":{\"color\":\"#1b9047\",\"width\":3},\"mode\":\"lines\",\"x\":[4,0],\"y\":[3,3],\"z\":[0,0],\"type\":\"scatter3d\"},{\"line\":{\"color\":\"#1b9047\",\"width\":3},\"mode\":\"lines\",\"x\":[0,0],\"y\":[3,0],\"z\":[0,0],\"type\":\"scatter3d\"},{\"line\":{\"color\":\"#1b9047\",\"width\":3},\"mode\":\"lines\",\"x\":[0,4],\"y\":[0,0],\"z\":[3,3],\"type\":\"scatter3d\"},{\"line\":{\"color\":\"#1b9047\",\"width\":3},\"mode\":\"lines\",\"x\":[4,4],\"y\":[0,3],\"z\":[3,3],\"type\":\"scatter3d\"},{\"line\":{\"color\":\"#1b9047\",\"width\":3},\"mode\":\"lines\",\"x\":[4,0],\"y\":[3,3],\"z\":[3,3],\"type\":\"scatter3d\"},{\"line\":{\"color\":\"#1b9047\",\"width\":3},\"mode\":\"lines\",\"x\":[0,0],\"y\":[3,0],\"z\":[3,3],\"type\":\"scatter3d\"},{\"line\":{\"color\":\"#1b9047\",\"width\":3},\"mode\":\"lines\",\"x\":[0,0],\"y\":[0,0],\"z\":[0,3],\"type\":\"scatter3d\"},{\"line\":{\"color\":\"#1b9047\",\"width\":3},\"mode\":\"lines\",\"x\":[4,4],\"y\":[0,0],\"z\":[0,3],\"type\":\"scatter3d\"},{\"line\":{\"color\":\"#1b9047\",\"width\":3},\"mode\":\"lines\",\"x\":[4,4],\"y\":[3,3],\"z\":[0,3],\"type\":\"scatter3d\"},{\"line\":{\"color\":\"#1b9047\",\"width\":3},\"mode\":\"lines\",\"x\":[0,0],\"y\":[3,3],\"z\":[0,3],\"type\":\"scatter3d\"},{\"marker\":{\"color\":\"#ef6af5\",\"size\":4},\"mode\":\"markers+text\",\"x\":[10,14,14,10,10,14,14,10,10,10,14,14,14,14,10,10],\"y\":[10,10,13,13,10,10,13,13,10,10,10,10,13,13,13,13],\"z\":[10,10,10,10,13,13,13,13,10,13,10,13,10,13,10,13],\"type\":\"scatter3d\"},{\"line\":{\"color\":\"#ef6af5\",\"width\":3},\"mode\":\"lines\",\"x\":[10,14],\"y\":[10,10],\"z\":[10,10],\"type\":\"scatter3d\"},{\"line\":{\"color\":\"#ef6af5\",\"width\":3},\"mode\":\"lines\",\"x\":[14,14],\"y\":[10,13],\"z\":[10,10],\"type\":\"scatter3d\"},{\"line\":{\"color\":\"#ef6af5\",\"width\":3},\"mode\":\"lines\",\"x\":[14,10],\"y\":[13,13],\"z\":[10,10],\"type\":\"scatter3d\"},{\"line\":{\"color\":\"#ef6af5\",\"width\":3},\"mode\":\"lines\",\"x\":[10,10],\"y\":[13,10],\"z\":[10,10],\"type\":\"scatter3d\"},{\"line\":{\"color\":\"#ef6af5\",\"width\":3},\"mode\":\"lines\",\"x\":[10,14],\"y\":[10,10],\"z\":[13,13],\"type\":\"scatter3d\"},{\"line\":{\"color\":\"#ef6af5\",\"width\":3},\"mode\":\"lines\",\"x\":[14,14],\"y\":[10,13],\"z\":[13,13],\"type\":\"scatter3d\"},{\"line\":{\"color\":\"#ef6af5\",\"width\":3},\"mode\":\"lines\",\"x\":[14,10],\"y\":[13,13],\"z\":[13,13],\"type\":\"scatter3d\"},{\"line\":{\"color\":\"#ef6af5\",\"width\":3},\"mode\":\"lines\",\"x\":[10,10],\"y\":[13,10],\"z\":[13,13],\"type\":\"scatter3d\"},{\"line\":{\"color\":\"#ef6af5\",\"width\":3},\"mode\":\"lines\",\"x\":[10,10],\"y\":[10,10],\"z\":[10,13],\"type\":\"scatter3d\"},{\"line\":{\"color\":\"#ef6af5\",\"width\":3},\"mode\":\"lines\",\"x\":[14,14],\"y\":[10,10],\"z\":[10,13],\"type\":\"scatter3d\"},{\"line\":{\"color\":\"#ef6af5\",\"width\":3},\"mode\":\"lines\",\"x\":[14,14],\"y\":[13,13],\"z\":[10,13],\"type\":\"scatter3d\"},{\"line\":{\"color\":\"#ef6af5\",\"width\":3},\"mode\":\"lines\",\"x\":[10,10],\"y\":[13,13],\"z\":[10,13],\"type\":\"scatter3d\"}],                        {\"template\":{\"data\":{\"histogram2dcontour\":[{\"type\":\"histogram2dcontour\",\"colorbar\":{\"outlinewidth\":0,\"ticks\":\"\"},\"colorscale\":[[0.0,\"#0d0887\"],[0.1111111111111111,\"#46039f\"],[0.2222222222222222,\"#7201a8\"],[0.3333333333333333,\"#9c179e\"],[0.4444444444444444,\"#bd3786\"],[0.5555555555555556,\"#d8576b\"],[0.6666666666666666,\"#ed7953\"],[0.7777777777777778,\"#fb9f3a\"],[0.8888888888888888,\"#fdca26\"],[1.0,\"#f0f921\"]]}],\"choropleth\":[{\"type\":\"choropleth\",\"colorbar\":{\"outlinewidth\":0,\"ticks\":\"\"}}],\"histogram2d\":[{\"type\":\"histogram2d\",\"colorbar\":{\"outlinewidth\":0,\"ticks\":\"\"},\"colorscale\":[[0.0,\"#0d0887\"],[0.1111111111111111,\"#46039f\"],[0.2222222222222222,\"#7201a8\"],[0.3333333333333333,\"#9c179e\"],[0.4444444444444444,\"#bd3786\"],[0.5555555555555556,\"#d8576b\"],[0.6666666666666666,\"#ed7953\"],[0.7777777777777778,\"#fb9f3a\"],[0.8888888888888888,\"#fdca26\"],[1.0,\"#f0f921\"]]}],\"heatmap\":[{\"type\":\"heatmap\",\"colorbar\":{\"outlinewidth\":0,\"ticks\":\"\"},\"colorscale\":[[0.0,\"#0d0887\"],[0.1111111111111111,\"#46039f\"],[0.2222222222222222,\"#7201a8\"],[0.3333333333333333,\"#9c179e\"],[0.4444444444444444,\"#bd3786\"],[0.5555555555555556,\"#d8576b\"],[0.6666666666666666,\"#ed7953\"],[0.7777777777777778,\"#fb9f3a\"],[0.8888888888888888,\"#fdca26\"],[1.0,\"#f0f921\"]]}],\"heatmapgl\":[{\"type\":\"heatmapgl\",\"colorbar\":{\"outlinewidth\":0,\"ticks\":\"\"},\"colorscale\":[[0.0,\"#0d0887\"],[0.1111111111111111,\"#46039f\"],[0.2222222222222222,\"#7201a8\"],[0.3333333333333333,\"#9c179e\"],[0.4444444444444444,\"#bd3786\"],[0.5555555555555556,\"#d8576b\"],[0.6666666666666666,\"#ed7953\"],[0.7777777777777778,\"#fb9f3a\"],[0.8888888888888888,\"#fdca26\"],[1.0,\"#f0f921\"]]}],\"contourcarpet\":[{\"type\":\"contourcarpet\",\"colorbar\":{\"outlinewidth\":0,\"ticks\":\"\"}}],\"contour\":[{\"type\":\"contour\",\"colorbar\":{\"outlinewidth\":0,\"ticks\":\"\"},\"colorscale\":[[0.0,\"#0d0887\"],[0.1111111111111111,\"#46039f\"],[0.2222222222222222,\"#7201a8\"],[0.3333333333333333,\"#9c179e\"],[0.4444444444444444,\"#bd3786\"],[0.5555555555555556,\"#d8576b\"],[0.6666666666666666,\"#ed7953\"],[0.7777777777777778,\"#fb9f3a\"],[0.8888888888888888,\"#fdca26\"],[1.0,\"#f0f921\"]]}],\"surface\":[{\"type\":\"surface\",\"colorbar\":{\"outlinewidth\":0,\"ticks\":\"\"},\"colorscale\":[[0.0,\"#0d0887\"],[0.1111111111111111,\"#46039f\"],[0.2222222222222222,\"#7201a8\"],[0.3333333333333333,\"#9c179e\"],[0.4444444444444444,\"#bd3786\"],[0.5555555555555556,\"#d8576b\"],[0.6666666666666666,\"#ed7953\"],[0.7777777777777778,\"#fb9f3a\"],[0.8888888888888888,\"#fdca26\"],[1.0,\"#f0f921\"]]}],\"mesh3d\":[{\"type\":\"mesh3d\",\"colorbar\":{\"outlinewidth\":0,\"ticks\":\"\"}}],\"scatter\":[{\"fillpattern\":{\"fillmode\":\"overlay\",\"size\":10,\"solidity\":0.2},\"type\":\"scatter\"}],\"parcoords\":[{\"type\":\"parcoords\",\"line\":{\"colorbar\":{\"outlinewidth\":0,\"ticks\":\"\"}}}],\"scatterpolargl\":[{\"type\":\"scatterpolargl\",\"marker\":{\"colorbar\":{\"outlinewidth\":0,\"ticks\":\"\"}}}],\"bar\":[{\"error_x\":{\"color\":\"#2a3f5f\"},\"error_y\":{\"color\":\"#2a3f5f\"},\"marker\":{\"line\":{\"color\":\"#E5ECF6\",\"width\":0.5},\"pattern\":{\"fillmode\":\"overlay\",\"size\":10,\"solidity\":0.2}},\"type\":\"bar\"}],\"scattergeo\":[{\"type\":\"scattergeo\",\"marker\":{\"colorbar\":{\"outlinewidth\":0,\"ticks\":\"\"}}}],\"scatterpolar\":[{\"type\":\"scatterpolar\",\"marker\":{\"colorbar\":{\"outlinewidth\":0,\"ticks\":\"\"}}}],\"histogram\":[{\"marker\":{\"pattern\":{\"fillmode\":\"overlay\",\"size\":10,\"solidity\":0.2}},\"type\":\"histogram\"}],\"scattergl\":[{\"type\":\"scattergl\",\"marker\":{\"colorbar\":{\"outlinewidth\":0,\"ticks\":\"\"}}}],\"scatter3d\":[{\"type\":\"scatter3d\",\"line\":{\"colorbar\":{\"outlinewidth\":0,\"ticks\":\"\"}},\"marker\":{\"colorbar\":{\"outlinewidth\":0,\"ticks\":\"\"}}}],\"scattermapbox\":[{\"type\":\"scattermapbox\",\"marker\":{\"colorbar\":{\"outlinewidth\":0,\"ticks\":\"\"}}}],\"scatterternary\":[{\"type\":\"scatterternary\",\"marker\":{\"colorbar\":{\"outlinewidth\":0,\"ticks\":\"\"}}}],\"scattercarpet\":[{\"type\":\"scattercarpet\",\"marker\":{\"colorbar\":{\"outlinewidth\":0,\"ticks\":\"\"}}}],\"carpet\":[{\"aaxis\":{\"endlinecolor\":\"#2a3f5f\",\"gridcolor\":\"white\",\"linecolor\":\"white\",\"minorgridcolor\":\"white\",\"startlinecolor\":\"#2a3f5f\"},\"baxis\":{\"endlinecolor\":\"#2a3f5f\",\"gridcolor\":\"white\",\"linecolor\":\"white\",\"minorgridcolor\":\"white\",\"startlinecolor\":\"#2a3f5f\"},\"type\":\"carpet\"}],\"table\":[{\"cells\":{\"fill\":{\"color\":\"#EBF0F8\"},\"line\":{\"color\":\"white\"}},\"header\":{\"fill\":{\"color\":\"#C8D4E3\"},\"line\":{\"color\":\"white\"}},\"type\":\"table\"}],\"barpolar\":[{\"marker\":{\"line\":{\"color\":\"#E5ECF6\",\"width\":0.5},\"pattern\":{\"fillmode\":\"overlay\",\"size\":10,\"solidity\":0.2}},\"type\":\"barpolar\"}],\"pie\":[{\"automargin\":true,\"type\":\"pie\"}]},\"layout\":{\"autotypenumbers\":\"strict\",\"colorway\":[\"#636efa\",\"#EF553B\",\"#00cc96\",\"#ab63fa\",\"#FFA15A\",\"#19d3f3\",\"#FF6692\",\"#B6E880\",\"#FF97FF\",\"#FECB52\"],\"font\":{\"color\":\"#2a3f5f\"},\"hovermode\":\"closest\",\"hoverlabel\":{\"align\":\"left\"},\"paper_bgcolor\":\"white\",\"plot_bgcolor\":\"#E5ECF6\",\"polar\":{\"bgcolor\":\"#E5ECF6\",\"angularaxis\":{\"gridcolor\":\"white\",\"linecolor\":\"white\",\"ticks\":\"\"},\"radialaxis\":{\"gridcolor\":\"white\",\"linecolor\":\"white\",\"ticks\":\"\"}},\"ternary\":{\"bgcolor\":\"#E5ECF6\",\"aaxis\":{\"gridcolor\":\"white\",\"linecolor\":\"white\",\"ticks\":\"\"},\"baxis\":{\"gridcolor\":\"white\",\"linecolor\":\"white\",\"ticks\":\"\"},\"caxis\":{\"gridcolor\":\"white\",\"linecolor\":\"white\",\"ticks\":\"\"}},\"coloraxis\":{\"colorbar\":{\"outlinewidth\":0,\"ticks\":\"\"}},\"colorscale\":{\"sequential\":[[0.0,\"#0d0887\"],[0.1111111111111111,\"#46039f\"],[0.2222222222222222,\"#7201a8\"],[0.3333333333333333,\"#9c179e\"],[0.4444444444444444,\"#bd3786\"],[0.5555555555555556,\"#d8576b\"],[0.6666666666666666,\"#ed7953\"],[0.7777777777777778,\"#fb9f3a\"],[0.8888888888888888,\"#fdca26\"],[1.0,\"#f0f921\"]],\"sequentialminus\":[[0.0,\"#0d0887\"],[0.1111111111111111,\"#46039f\"],[0.2222222222222222,\"#7201a8\"],[0.3333333333333333,\"#9c179e\"],[0.4444444444444444,\"#bd3786\"],[0.5555555555555556,\"#d8576b\"],[0.6666666666666666,\"#ed7953\"],[0.7777777777777778,\"#fb9f3a\"],[0.8888888888888888,\"#fdca26\"],[1.0,\"#f0f921\"]],\"diverging\":[[0,\"#8e0152\"],[0.1,\"#c51b7d\"],[0.2,\"#de77ae\"],[0.3,\"#f1b6da\"],[0.4,\"#fde0ef\"],[0.5,\"#f7f7f7\"],[0.6,\"#e6f5d0\"],[0.7,\"#b8e186\"],[0.8,\"#7fbc41\"],[0.9,\"#4d9221\"],[1,\"#276419\"]]},\"xaxis\":{\"gridcolor\":\"white\",\"linecolor\":\"white\",\"ticks\":\"\",\"title\":{\"standoff\":15},\"zerolinecolor\":\"white\",\"automargin\":true,\"zerolinewidth\":2},\"yaxis\":{\"gridcolor\":\"white\",\"linecolor\":\"white\",\"ticks\":\"\",\"title\":{\"standoff\":15},\"zerolinecolor\":\"white\",\"automargin\":true,\"zerolinewidth\":2},\"scene\":{\"xaxis\":{\"backgroundcolor\":\"#E5ECF6\",\"gridcolor\":\"white\",\"linecolor\":\"white\",\"showbackground\":true,\"ticks\":\"\",\"zerolinecolor\":\"white\",\"gridwidth\":2},\"yaxis\":{\"backgroundcolor\":\"#E5ECF6\",\"gridcolor\":\"white\",\"linecolor\":\"white\",\"showbackground\":true,\"ticks\":\"\",\"zerolinecolor\":\"white\",\"gridwidth\":2},\"zaxis\":{\"backgroundcolor\":\"#E5ECF6\",\"gridcolor\":\"white\",\"linecolor\":\"white\",\"showbackground\":true,\"ticks\":\"\",\"zerolinecolor\":\"white\",\"gridwidth\":2}},\"shapedefaults\":{\"line\":{\"color\":\"#2a3f5f\"}},\"annotationdefaults\":{\"arrowcolor\":\"#2a3f5f\",\"arrowhead\":0,\"arrowwidth\":1},\"geo\":{\"bgcolor\":\"white\",\"landcolor\":\"#E5ECF6\",\"subunitcolor\":\"white\",\"showland\":true,\"showlakes\":true,\"lakecolor\":\"white\"},\"title\":{\"x\":0.05},\"mapbox\":{\"style\":\"light\"}}},\"scene\":{\"xaxis\":{\"range\":[0,30]},\"yaxis\":{\"range\":[0,40]},\"zaxis\":{\"range\":[0,50]}}},                        {\"responsive\": true}                    ).then(function(){\n",
              "                            \n",
              "var gd = document.getElementById('d359973f-0f4f-4ff1-9300-d2da7e27598c');\n",
              "var x = new MutationObserver(function (mutations, observer) {{\n",
              "        var display = window.getComputedStyle(gd).display;\n",
              "        if (!display || display === 'none') {{\n",
              "            console.log([gd, 'removed!']);\n",
              "            Plotly.purge(gd);\n",
              "            observer.disconnect();\n",
              "        }}\n",
              "}});\n",
              "\n",
              "// Listen for the removal of the full notebook cells\n",
              "var notebookContainer = gd.closest('#notebook-container');\n",
              "if (notebookContainer) {{\n",
              "    x.observe(notebookContainer, {childList: true});\n",
              "}}\n",
              "\n",
              "// Listen for the clearing of the current output cell\n",
              "var outputEl = gd.closest('.output');\n",
              "if (outputEl) {{\n",
              "    x.observe(outputEl, {childList: true});\n",
              "}}\n",
              "\n",
              "                        })                };                            </script>        </div>\n",
              "</body>\n",
              "</html>"
            ]
          },
          "metadata": {}
        }
      ]
    },
    {
      "cell_type": "code",
      "source": [
        "import plotly.graph_objects as go\n",
        "import random\n",
        "\n",
        "def coletar_informacoes_bin(caixas):\n",
        "    bin = {}\n",
        "    altura = input(\"Qual é a altura do bin em centímetros? \").replace(',', '.')\n",
        "    largura = input(\"Qual é a largura do bin em centímetros? \").replace(',', '.')\n",
        "    profundidade = input(\"Qual é a profundidade do bin em centímetros? \").replace(',', '.')\n",
        "\n",
        "    try:\n",
        "        altura = float(altura)\n",
        "        largura = float(largura)\n",
        "        profundidade = float(profundidade)\n",
        "    except ValueError:\n",
        "        print(\"Valores inválidos! Certifique-se de digitar números válidos.\")\n",
        "        return None\n",
        "\n",
        "    # Calcular o peso do bin como 10 vezes o peso da caixa mais pesada\n",
        "    peso_caixa_mais_pesada = max(caixas, key=lambda x: x[3])  # Acessar o peso diretamente na tupla\n",
        "    peso_bin = peso_caixa_mais_pesada[3] * 10\n",
        "\n",
        "    bin[\"altura\"] = altura\n",
        "    bin[\"largura\"] = largura\n",
        "    bin[\"profundidade\"] = profundidade\n",
        "    bin[\"peso\"] = peso_bin\n",
        "\n",
        "    return bin\n",
        "\n",
        "def plot_multiple_3d_graphs(data_list, bin_info):\n",
        "    # Criar a figura\n",
        "    fig = go.Figure()\n",
        "\n",
        "    for data in data_list:\n",
        "        x, y, z, arestas = data\n",
        "        color = \"#{:02x}{:02x}{:02x}\".format(random.randint(0, 255), random.randint(0, 255), random.randint(0, 255))\n",
        "\n",
        "        # Adicionar os vértices\n",
        "        fig.add_trace(go.Scatter3d(\n",
        "            x=x,\n",
        "            y=y,\n",
        "            z=z,\n",
        "            mode='markers+text',\n",
        "            marker=dict(size=4, color=color),\n",
        "        ))\n",
        "\n",
        "        # Adicionar as arestas\n",
        "        for aresta in arestas:\n",
        "            fig.add_trace(go.Scatter3d(\n",
        "                x=[x[i] for i in aresta],\n",
        "                y=[y[i] for i in aresta],\n",
        "                z=[z[i] for i in aresta],\n",
        "                mode='lines',\n",
        "                line=dict(color=color, width=3)\n",
        "            ))\n",
        "\n",
        "\n",
        "    # Definir os intervalos dos eixos\n",
        "    fig.update_layout(\n",
        "        scene=dict(\n",
        "            xaxis=dict(range=[0, bin_info[\"profundidade\"]]),\n",
        "            yaxis=dict(range=[0, bin_info[\"largura\"]]),\n",
        "            zaxis=dict(range=[0, bin_info[\"altura\"]])\n",
        "        )\n",
        "    )\n",
        "\n",
        "    # Mostrar a figura\n",
        "    fig.show()\n",
        "\n",
        "# Exemplo com 3 elementos na lista de dados\n",
        "data_list = [\n",
        "    # Elemento 1\n",
        "    ([0, 4, 4, 0, 0, 4, 4, 0, 0, 0, 4, 4, 4, 4, 0, 0],\n",
        "     [0, 0, 3, 3, 0, 0, 3, 3, 0, 0, 0, 0, 3, 3, 3, 3],\n",
        "     [0, 0, 0, 0, 3, 3, 3, 3, 0, 3, 0, 3, 0, 3, 0, 3],\n",
        "     [(0, 1), (1, 2), (2, 3), (3, 0), (4, 5), (5, 6), (6, 7), (7, 4), (8, 9), (10, 11), (12, 13), (14, 15)]),\n",
        "\n",
        "    # Elemento 2\n",
        "    ([10, 14, 14, 10, 10, 14, 14, 10, 10, 10, 14, 14, 14, 14, 10, 10],\n",
        "     [10, 10, 13, 13, 10, 10, 13, 13, 10, 10, 10, 10, 13, 13, 13, 13],\n",
        "     [10, 10, 10, 10, 13, 13, 13, 13, 10, 13, 10, 13, 10, 13, 10, 13],\n",
        "     [(0, 1), (1, 2), (2, 3), (3, 0), (4, 5), (5, 6), (6, 7), (7, 4), (8, 9), (10, 11), (12, 13), (14, 15)]),\n",
        "]\n",
        "\n",
        "# Coletar informações do bin\n",
        "bin_info = coletar_informacoes_bin(data_list)\n",
        "\n",
        "# Plotar as caixas e o bin\n",
        "plot_multiple_3d_graphs(data_list, bin_info)\n"
      ],
      "metadata": {
        "colab": {
          "base_uri": "https://localhost:8080/",
          "height": 594
        },
        "id": "gQZh6tAk_W3L",
        "outputId": "eeb316fa-9a07-4ead-a101-47ff6f6bd9c1"
      },
      "execution_count": 43,
      "outputs": [
        {
          "name": "stdout",
          "output_type": "stream",
          "text": [
            "Qual é a altura do bin em centímetros? 50\n",
            "Qual é a largura do bin em centímetros? 40\n",
            "Qual é a profundidade do bin em centímetros? 30\n"
          ]
        },
        {
          "output_type": "display_data",
          "data": {
            "text/html": [
              "<html>\n",
              "<head><meta charset=\"utf-8\" /></head>\n",
              "<body>\n",
              "    <div>            <script src=\"https://cdnjs.cloudflare.com/ajax/libs/mathjax/2.7.5/MathJax.js?config=TeX-AMS-MML_SVG\"></script><script type=\"text/javascript\">if (window.MathJax && window.MathJax.Hub && window.MathJax.Hub.Config) {window.MathJax.Hub.Config({SVG: {font: \"STIX-Web\"}});}</script>                <script type=\"text/javascript\">window.PlotlyConfig = {MathJaxConfig: 'local'};</script>\n",
              "        <script charset=\"utf-8\" src=\"https://cdn.plot.ly/plotly-2.24.1.min.js\"></script>                <div id=\"6a6c90d8-0285-44cc-aab0-80cdfd8612d8\" class=\"plotly-graph-div\" style=\"height:525px; width:100%;\"></div>            <script type=\"text/javascript\">                                    window.PLOTLYENV=window.PLOTLYENV || {};                                    if (document.getElementById(\"6a6c90d8-0285-44cc-aab0-80cdfd8612d8\")) {                    Plotly.newPlot(                        \"6a6c90d8-0285-44cc-aab0-80cdfd8612d8\",                        [{\"marker\":{\"color\":\"#c37a54\",\"size\":4},\"mode\":\"markers+text\",\"x\":[0,4,4,0,0,4,4,0,0,0,4,4,4,4,0,0],\"y\":[0,0,3,3,0,0,3,3,0,0,0,0,3,3,3,3],\"z\":[0,0,0,0,3,3,3,3,0,3,0,3,0,3,0,3],\"type\":\"scatter3d\"},{\"line\":{\"color\":\"#c37a54\",\"width\":3},\"mode\":\"lines\",\"x\":[0,4],\"y\":[0,0],\"z\":[0,0],\"type\":\"scatter3d\"},{\"line\":{\"color\":\"#c37a54\",\"width\":3},\"mode\":\"lines\",\"x\":[4,4],\"y\":[0,3],\"z\":[0,0],\"type\":\"scatter3d\"},{\"line\":{\"color\":\"#c37a54\",\"width\":3},\"mode\":\"lines\",\"x\":[4,0],\"y\":[3,3],\"z\":[0,0],\"type\":\"scatter3d\"},{\"line\":{\"color\":\"#c37a54\",\"width\":3},\"mode\":\"lines\",\"x\":[0,0],\"y\":[3,0],\"z\":[0,0],\"type\":\"scatter3d\"},{\"line\":{\"color\":\"#c37a54\",\"width\":3},\"mode\":\"lines\",\"x\":[0,4],\"y\":[0,0],\"z\":[3,3],\"type\":\"scatter3d\"},{\"line\":{\"color\":\"#c37a54\",\"width\":3},\"mode\":\"lines\",\"x\":[4,4],\"y\":[0,3],\"z\":[3,3],\"type\":\"scatter3d\"},{\"line\":{\"color\":\"#c37a54\",\"width\":3},\"mode\":\"lines\",\"x\":[4,0],\"y\":[3,3],\"z\":[3,3],\"type\":\"scatter3d\"},{\"line\":{\"color\":\"#c37a54\",\"width\":3},\"mode\":\"lines\",\"x\":[0,0],\"y\":[3,0],\"z\":[3,3],\"type\":\"scatter3d\"},{\"line\":{\"color\":\"#c37a54\",\"width\":3},\"mode\":\"lines\",\"x\":[0,0],\"y\":[0,0],\"z\":[0,3],\"type\":\"scatter3d\"},{\"line\":{\"color\":\"#c37a54\",\"width\":3},\"mode\":\"lines\",\"x\":[4,4],\"y\":[0,0],\"z\":[0,3],\"type\":\"scatter3d\"},{\"line\":{\"color\":\"#c37a54\",\"width\":3},\"mode\":\"lines\",\"x\":[4,4],\"y\":[3,3],\"z\":[0,3],\"type\":\"scatter3d\"},{\"line\":{\"color\":\"#c37a54\",\"width\":3},\"mode\":\"lines\",\"x\":[0,0],\"y\":[3,3],\"z\":[0,3],\"type\":\"scatter3d\"},{\"marker\":{\"color\":\"#b532e3\",\"size\":4},\"mode\":\"markers+text\",\"x\":[10,14,14,10,10,14,14,10,10,10,14,14,14,14,10,10],\"y\":[10,10,13,13,10,10,13,13,10,10,10,10,13,13,13,13],\"z\":[10,10,10,10,13,13,13,13,10,13,10,13,10,13,10,13],\"type\":\"scatter3d\"},{\"line\":{\"color\":\"#b532e3\",\"width\":3},\"mode\":\"lines\",\"x\":[10,14],\"y\":[10,10],\"z\":[10,10],\"type\":\"scatter3d\"},{\"line\":{\"color\":\"#b532e3\",\"width\":3},\"mode\":\"lines\",\"x\":[14,14],\"y\":[10,13],\"z\":[10,10],\"type\":\"scatter3d\"},{\"line\":{\"color\":\"#b532e3\",\"width\":3},\"mode\":\"lines\",\"x\":[14,10],\"y\":[13,13],\"z\":[10,10],\"type\":\"scatter3d\"},{\"line\":{\"color\":\"#b532e3\",\"width\":3},\"mode\":\"lines\",\"x\":[10,10],\"y\":[13,10],\"z\":[10,10],\"type\":\"scatter3d\"},{\"line\":{\"color\":\"#b532e3\",\"width\":3},\"mode\":\"lines\",\"x\":[10,14],\"y\":[10,10],\"z\":[13,13],\"type\":\"scatter3d\"},{\"line\":{\"color\":\"#b532e3\",\"width\":3},\"mode\":\"lines\",\"x\":[14,14],\"y\":[10,13],\"z\":[13,13],\"type\":\"scatter3d\"},{\"line\":{\"color\":\"#b532e3\",\"width\":3},\"mode\":\"lines\",\"x\":[14,10],\"y\":[13,13],\"z\":[13,13],\"type\":\"scatter3d\"},{\"line\":{\"color\":\"#b532e3\",\"width\":3},\"mode\":\"lines\",\"x\":[10,10],\"y\":[13,10],\"z\":[13,13],\"type\":\"scatter3d\"},{\"line\":{\"color\":\"#b532e3\",\"width\":3},\"mode\":\"lines\",\"x\":[10,10],\"y\":[10,10],\"z\":[10,13],\"type\":\"scatter3d\"},{\"line\":{\"color\":\"#b532e3\",\"width\":3},\"mode\":\"lines\",\"x\":[14,14],\"y\":[10,10],\"z\":[10,13],\"type\":\"scatter3d\"},{\"line\":{\"color\":\"#b532e3\",\"width\":3},\"mode\":\"lines\",\"x\":[14,14],\"y\":[13,13],\"z\":[10,13],\"type\":\"scatter3d\"},{\"line\":{\"color\":\"#b532e3\",\"width\":3},\"mode\":\"lines\",\"x\":[10,10],\"y\":[13,13],\"z\":[10,13],\"type\":\"scatter3d\"}],                        {\"template\":{\"data\":{\"histogram2dcontour\":[{\"type\":\"histogram2dcontour\",\"colorbar\":{\"outlinewidth\":0,\"ticks\":\"\"},\"colorscale\":[[0.0,\"#0d0887\"],[0.1111111111111111,\"#46039f\"],[0.2222222222222222,\"#7201a8\"],[0.3333333333333333,\"#9c179e\"],[0.4444444444444444,\"#bd3786\"],[0.5555555555555556,\"#d8576b\"],[0.6666666666666666,\"#ed7953\"],[0.7777777777777778,\"#fb9f3a\"],[0.8888888888888888,\"#fdca26\"],[1.0,\"#f0f921\"]]}],\"choropleth\":[{\"type\":\"choropleth\",\"colorbar\":{\"outlinewidth\":0,\"ticks\":\"\"}}],\"histogram2d\":[{\"type\":\"histogram2d\",\"colorbar\":{\"outlinewidth\":0,\"ticks\":\"\"},\"colorscale\":[[0.0,\"#0d0887\"],[0.1111111111111111,\"#46039f\"],[0.2222222222222222,\"#7201a8\"],[0.3333333333333333,\"#9c179e\"],[0.4444444444444444,\"#bd3786\"],[0.5555555555555556,\"#d8576b\"],[0.6666666666666666,\"#ed7953\"],[0.7777777777777778,\"#fb9f3a\"],[0.8888888888888888,\"#fdca26\"],[1.0,\"#f0f921\"]]}],\"heatmap\":[{\"type\":\"heatmap\",\"colorbar\":{\"outlinewidth\":0,\"ticks\":\"\"},\"colorscale\":[[0.0,\"#0d0887\"],[0.1111111111111111,\"#46039f\"],[0.2222222222222222,\"#7201a8\"],[0.3333333333333333,\"#9c179e\"],[0.4444444444444444,\"#bd3786\"],[0.5555555555555556,\"#d8576b\"],[0.6666666666666666,\"#ed7953\"],[0.7777777777777778,\"#fb9f3a\"],[0.8888888888888888,\"#fdca26\"],[1.0,\"#f0f921\"]]}],\"heatmapgl\":[{\"type\":\"heatmapgl\",\"colorbar\":{\"outlinewidth\":0,\"ticks\":\"\"},\"colorscale\":[[0.0,\"#0d0887\"],[0.1111111111111111,\"#46039f\"],[0.2222222222222222,\"#7201a8\"],[0.3333333333333333,\"#9c179e\"],[0.4444444444444444,\"#bd3786\"],[0.5555555555555556,\"#d8576b\"],[0.6666666666666666,\"#ed7953\"],[0.7777777777777778,\"#fb9f3a\"],[0.8888888888888888,\"#fdca26\"],[1.0,\"#f0f921\"]]}],\"contourcarpet\":[{\"type\":\"contourcarpet\",\"colorbar\":{\"outlinewidth\":0,\"ticks\":\"\"}}],\"contour\":[{\"type\":\"contour\",\"colorbar\":{\"outlinewidth\":0,\"ticks\":\"\"},\"colorscale\":[[0.0,\"#0d0887\"],[0.1111111111111111,\"#46039f\"],[0.2222222222222222,\"#7201a8\"],[0.3333333333333333,\"#9c179e\"],[0.4444444444444444,\"#bd3786\"],[0.5555555555555556,\"#d8576b\"],[0.6666666666666666,\"#ed7953\"],[0.7777777777777778,\"#fb9f3a\"],[0.8888888888888888,\"#fdca26\"],[1.0,\"#f0f921\"]]}],\"surface\":[{\"type\":\"surface\",\"colorbar\":{\"outlinewidth\":0,\"ticks\":\"\"},\"colorscale\":[[0.0,\"#0d0887\"],[0.1111111111111111,\"#46039f\"],[0.2222222222222222,\"#7201a8\"],[0.3333333333333333,\"#9c179e\"],[0.4444444444444444,\"#bd3786\"],[0.5555555555555556,\"#d8576b\"],[0.6666666666666666,\"#ed7953\"],[0.7777777777777778,\"#fb9f3a\"],[0.8888888888888888,\"#fdca26\"],[1.0,\"#f0f921\"]]}],\"mesh3d\":[{\"type\":\"mesh3d\",\"colorbar\":{\"outlinewidth\":0,\"ticks\":\"\"}}],\"scatter\":[{\"fillpattern\":{\"fillmode\":\"overlay\",\"size\":10,\"solidity\":0.2},\"type\":\"scatter\"}],\"parcoords\":[{\"type\":\"parcoords\",\"line\":{\"colorbar\":{\"outlinewidth\":0,\"ticks\":\"\"}}}],\"scatterpolargl\":[{\"type\":\"scatterpolargl\",\"marker\":{\"colorbar\":{\"outlinewidth\":0,\"ticks\":\"\"}}}],\"bar\":[{\"error_x\":{\"color\":\"#2a3f5f\"},\"error_y\":{\"color\":\"#2a3f5f\"},\"marker\":{\"line\":{\"color\":\"#E5ECF6\",\"width\":0.5},\"pattern\":{\"fillmode\":\"overlay\",\"size\":10,\"solidity\":0.2}},\"type\":\"bar\"}],\"scattergeo\":[{\"type\":\"scattergeo\",\"marker\":{\"colorbar\":{\"outlinewidth\":0,\"ticks\":\"\"}}}],\"scatterpolar\":[{\"type\":\"scatterpolar\",\"marker\":{\"colorbar\":{\"outlinewidth\":0,\"ticks\":\"\"}}}],\"histogram\":[{\"marker\":{\"pattern\":{\"fillmode\":\"overlay\",\"size\":10,\"solidity\":0.2}},\"type\":\"histogram\"}],\"scattergl\":[{\"type\":\"scattergl\",\"marker\":{\"colorbar\":{\"outlinewidth\":0,\"ticks\":\"\"}}}],\"scatter3d\":[{\"type\":\"scatter3d\",\"line\":{\"colorbar\":{\"outlinewidth\":0,\"ticks\":\"\"}},\"marker\":{\"colorbar\":{\"outlinewidth\":0,\"ticks\":\"\"}}}],\"scattermapbox\":[{\"type\":\"scattermapbox\",\"marker\":{\"colorbar\":{\"outlinewidth\":0,\"ticks\":\"\"}}}],\"scatterternary\":[{\"type\":\"scatterternary\",\"marker\":{\"colorbar\":{\"outlinewidth\":0,\"ticks\":\"\"}}}],\"scattercarpet\":[{\"type\":\"scattercarpet\",\"marker\":{\"colorbar\":{\"outlinewidth\":0,\"ticks\":\"\"}}}],\"carpet\":[{\"aaxis\":{\"endlinecolor\":\"#2a3f5f\",\"gridcolor\":\"white\",\"linecolor\":\"white\",\"minorgridcolor\":\"white\",\"startlinecolor\":\"#2a3f5f\"},\"baxis\":{\"endlinecolor\":\"#2a3f5f\",\"gridcolor\":\"white\",\"linecolor\":\"white\",\"minorgridcolor\":\"white\",\"startlinecolor\":\"#2a3f5f\"},\"type\":\"carpet\"}],\"table\":[{\"cells\":{\"fill\":{\"color\":\"#EBF0F8\"},\"line\":{\"color\":\"white\"}},\"header\":{\"fill\":{\"color\":\"#C8D4E3\"},\"line\":{\"color\":\"white\"}},\"type\":\"table\"}],\"barpolar\":[{\"marker\":{\"line\":{\"color\":\"#E5ECF6\",\"width\":0.5},\"pattern\":{\"fillmode\":\"overlay\",\"size\":10,\"solidity\":0.2}},\"type\":\"barpolar\"}],\"pie\":[{\"automargin\":true,\"type\":\"pie\"}]},\"layout\":{\"autotypenumbers\":\"strict\",\"colorway\":[\"#636efa\",\"#EF553B\",\"#00cc96\",\"#ab63fa\",\"#FFA15A\",\"#19d3f3\",\"#FF6692\",\"#B6E880\",\"#FF97FF\",\"#FECB52\"],\"font\":{\"color\":\"#2a3f5f\"},\"hovermode\":\"closest\",\"hoverlabel\":{\"align\":\"left\"},\"paper_bgcolor\":\"white\",\"plot_bgcolor\":\"#E5ECF6\",\"polar\":{\"bgcolor\":\"#E5ECF6\",\"angularaxis\":{\"gridcolor\":\"white\",\"linecolor\":\"white\",\"ticks\":\"\"},\"radialaxis\":{\"gridcolor\":\"white\",\"linecolor\":\"white\",\"ticks\":\"\"}},\"ternary\":{\"bgcolor\":\"#E5ECF6\",\"aaxis\":{\"gridcolor\":\"white\",\"linecolor\":\"white\",\"ticks\":\"\"},\"baxis\":{\"gridcolor\":\"white\",\"linecolor\":\"white\",\"ticks\":\"\"},\"caxis\":{\"gridcolor\":\"white\",\"linecolor\":\"white\",\"ticks\":\"\"}},\"coloraxis\":{\"colorbar\":{\"outlinewidth\":0,\"ticks\":\"\"}},\"colorscale\":{\"sequential\":[[0.0,\"#0d0887\"],[0.1111111111111111,\"#46039f\"],[0.2222222222222222,\"#7201a8\"],[0.3333333333333333,\"#9c179e\"],[0.4444444444444444,\"#bd3786\"],[0.5555555555555556,\"#d8576b\"],[0.6666666666666666,\"#ed7953\"],[0.7777777777777778,\"#fb9f3a\"],[0.8888888888888888,\"#fdca26\"],[1.0,\"#f0f921\"]],\"sequentialminus\":[[0.0,\"#0d0887\"],[0.1111111111111111,\"#46039f\"],[0.2222222222222222,\"#7201a8\"],[0.3333333333333333,\"#9c179e\"],[0.4444444444444444,\"#bd3786\"],[0.5555555555555556,\"#d8576b\"],[0.6666666666666666,\"#ed7953\"],[0.7777777777777778,\"#fb9f3a\"],[0.8888888888888888,\"#fdca26\"],[1.0,\"#f0f921\"]],\"diverging\":[[0,\"#8e0152\"],[0.1,\"#c51b7d\"],[0.2,\"#de77ae\"],[0.3,\"#f1b6da\"],[0.4,\"#fde0ef\"],[0.5,\"#f7f7f7\"],[0.6,\"#e6f5d0\"],[0.7,\"#b8e186\"],[0.8,\"#7fbc41\"],[0.9,\"#4d9221\"],[1,\"#276419\"]]},\"xaxis\":{\"gridcolor\":\"white\",\"linecolor\":\"white\",\"ticks\":\"\",\"title\":{\"standoff\":15},\"zerolinecolor\":\"white\",\"automargin\":true,\"zerolinewidth\":2},\"yaxis\":{\"gridcolor\":\"white\",\"linecolor\":\"white\",\"ticks\":\"\",\"title\":{\"standoff\":15},\"zerolinecolor\":\"white\",\"automargin\":true,\"zerolinewidth\":2},\"scene\":{\"xaxis\":{\"backgroundcolor\":\"#E5ECF6\",\"gridcolor\":\"white\",\"linecolor\":\"white\",\"showbackground\":true,\"ticks\":\"\",\"zerolinecolor\":\"white\",\"gridwidth\":2},\"yaxis\":{\"backgroundcolor\":\"#E5ECF6\",\"gridcolor\":\"white\",\"linecolor\":\"white\",\"showbackground\":true,\"ticks\":\"\",\"zerolinecolor\":\"white\",\"gridwidth\":2},\"zaxis\":{\"backgroundcolor\":\"#E5ECF6\",\"gridcolor\":\"white\",\"linecolor\":\"white\",\"showbackground\":true,\"ticks\":\"\",\"zerolinecolor\":\"white\",\"gridwidth\":2}},\"shapedefaults\":{\"line\":{\"color\":\"#2a3f5f\"}},\"annotationdefaults\":{\"arrowcolor\":\"#2a3f5f\",\"arrowhead\":0,\"arrowwidth\":1},\"geo\":{\"bgcolor\":\"white\",\"landcolor\":\"#E5ECF6\",\"subunitcolor\":\"white\",\"showland\":true,\"showlakes\":true,\"lakecolor\":\"white\"},\"title\":{\"x\":0.05},\"mapbox\":{\"style\":\"light\"}}},\"scene\":{\"xaxis\":{\"range\":[0,30.0]},\"yaxis\":{\"range\":[0,40.0]},\"zaxis\":{\"range\":[0,50.0]}}},                        {\"responsive\": true}                    ).then(function(){\n",
              "                            \n",
              "var gd = document.getElementById('6a6c90d8-0285-44cc-aab0-80cdfd8612d8');\n",
              "var x = new MutationObserver(function (mutations, observer) {{\n",
              "        var display = window.getComputedStyle(gd).display;\n",
              "        if (!display || display === 'none') {{\n",
              "            console.log([gd, 'removed!']);\n",
              "            Plotly.purge(gd);\n",
              "            observer.disconnect();\n",
              "        }}\n",
              "}});\n",
              "\n",
              "// Listen for the removal of the full notebook cells\n",
              "var notebookContainer = gd.closest('#notebook-container');\n",
              "if (notebookContainer) {{\n",
              "    x.observe(notebookContainer, {childList: true});\n",
              "}}\n",
              "\n",
              "// Listen for the clearing of the current output cell\n",
              "var outputEl = gd.closest('.output');\n",
              "if (outputEl) {{\n",
              "    x.observe(outputEl, {childList: true});\n",
              "}}\n",
              "\n",
              "                        })                };                            </script>        </div>\n",
              "</body>\n",
              "</html>"
            ]
          },
          "metadata": {}
        }
      ]
    },
    {
      "cell_type": "code",
      "source": [
        "from py3dbp import Packer, Bin, Item\n",
        "import re\n",
        "import plotly.graph_objects as go\n",
        "import random\n",
        "\n",
        "def coletar_informacoes_caixa(numero_caixas):\n",
        "    informacoes_caixas = []\n",
        "\n",
        "    for i in range(numero_caixas):\n",
        "        print(f\"\\nCaixa {i+1}:\")\n",
        "        altura = input(\"Qual é a altura da caixa em centímetros? \").replace(',', '.')\n",
        "        largura = input(\"Qual é a largura da caixa em centímetros? \").replace(',', '.')\n",
        "        profundidade = input(\"Qual é a profundidade da caixa em centímetros? \").replace(',', '.')\n",
        "        peso = input(\"Qual é o peso da caixa em quilogramas? \").replace(',', '.')\n",
        "\n",
        "        print(\"\\nEm uma escala de 1 a 5, o quão frágil é a caixa?\")\n",
        "        while True:\n",
        "            fragilidade = input(\"Digite um número de 1 a 5 (sendo 1 menos frágil e 5 mais frágil): \").replace(',', '.')\n",
        "            try:\n",
        "                fragilidade = float(fragilidade)\n",
        "                if 1 <= fragilidade <= 5:\n",
        "                    break\n",
        "                else:\n",
        "                    print(\"Valor inválido! Digite um número entre 1 e 5.\")\n",
        "            except ValueError:\n",
        "                print(\"Valor inválido! Digite um número válido.\")\n",
        "\n",
        "        informacoes_caixa = {\n",
        "            \"altura\": float(altura),\n",
        "            \"largura\": float(largura),\n",
        "            \"profundidade\": float(profundidade),\n",
        "            \"peso\": float(peso),\n",
        "            \"fragilidade\": fragilidade\n",
        "        }\n",
        "\n",
        "        informacoes_caixas.append(informacoes_caixa)\n",
        "\n",
        "    return informacoes_caixas\n",
        "\n",
        "# Resto do código permanece igual\n",
        "\n",
        "# Corrigir a função plot_multiple_3d_graphs\n",
        "def plot_multiple_3d_graphs(data_list, bin_info):\n",
        "    # Criar a figura\n",
        "    fig = go.Figure()\n",
        "\n",
        "    for data in data_list:\n",
        "        x, y, z = data  # Agora só temos 3 valores: largura, profundidade, altura\n",
        "        color = \"#{:02x}{:02x}{:02x}\".format(random.randint(0, 255), random.randint(0, 255), random.randint(0, 255))\n",
        "\n",
        "        # Adicionar os vértices\n",
        "        fig.add_trace(go.Scatter3d(\n",
        "            x=[0, x, x, 0, 0, x, x, 0, 0, 0, x, x, x, x, 0, 0],\n",
        "            y=[0, 0, y, y, 0, 0, y, y, 0, 0, 0, 0, y, y, y, y],\n",
        "            z=[0, 0, 0, 0, z, z, z, z, 0, z, 0, z, 0, z, 0, z],\n",
        "            mode='markers+text',\n",
        "            marker=dict(size=4, color=color),\n",
        "        ))\n",
        "\n",
        "    # Definir os intervalos dos eixos\n",
        "    fig.update_layout(\n",
        "        scene=dict(\n",
        "            xaxis=dict(range=[0, bin_info[\"profundidade\"]]),\n",
        "            yaxis=dict(range=[0, bin_info[\"largura\"]]),\n",
        "            zaxis=dict(range=[0, bin_info[\"altura\"]])\n",
        "        )\n",
        "    )\n",
        "\n",
        "    # Mostrar a figura\n",
        "    fig.show()\n",
        "\n",
        "# Coletar informações das caixas\n",
        "numero_caixas = int(input(\"Quantas caixas deseja adicionar? \"))\n",
        "informacoes_caixas = coletar_informacoes_caixa(numero_caixas)\n",
        "\n",
        "# Coletar informações do bin\n",
        "bin_info = coletar_informacoes_bin(informacoes_caixas)\n",
        "\n",
        "# Plotar as caixas e o bin\n",
        "plot_multiple_3d_graphs([(caixa[\"largura\"], caixa[\"profundidade\"], caixa[\"altura\"]) for caixa in informacoes_caixas], bin_info)\n"
      ],
      "metadata": {
        "colab": {
          "base_uri": "https://localhost:8080/",
          "height": 924
        },
        "id": "QP3cOhisHumq",
        "outputId": "59272e3a-2ae3-465c-c49d-5c0c6e54c9e2"
      },
      "execution_count": 50,
      "outputs": [
        {
          "name": "stdout",
          "output_type": "stream",
          "text": [
            "Quantas caixas deseja adicionar? 2\n",
            "\n",
            "Caixa 1:\n",
            "Qual é a altura da caixa em centímetros? 15\n",
            "Qual é a largura da caixa em centímetros? 14\n",
            "Qual é a profundidade da caixa em centímetros? 13\n",
            "Qual é o peso da caixa em quilogramas? 20\n",
            "\n",
            "Em uma escala de 1 a 5, o quão frágil é a caixa?\n",
            "Digite um número de 1 a 5 (sendo 1 menos frágil e 5 mais frágil): 1\n",
            "\n",
            "Caixa 2:\n",
            "Qual é a altura da caixa em centímetros? 25\n",
            "Qual é a largura da caixa em centímetros? 26\n",
            "Qual é a profundidade da caixa em centímetros? 24\n",
            "Qual é o peso da caixa em quilogramas? 30\n",
            "\n",
            "Em uma escala de 1 a 5, o quão frágil é a caixa?\n",
            "Digite um número de 1 a 5 (sendo 1 menos frágil e 5 mais frágil): 1\n",
            "Qual é a altura do bin em centímetros? 50\n",
            "Qual é a largura do bin em centímetros? 40\n",
            "Qual é a profundidade do bin em centímetros? 30\n"
          ]
        },
        {
          "output_type": "display_data",
          "data": {
            "text/html": [
              "<html>\n",
              "<head><meta charset=\"utf-8\" /></head>\n",
              "<body>\n",
              "    <div>            <script src=\"https://cdnjs.cloudflare.com/ajax/libs/mathjax/2.7.5/MathJax.js?config=TeX-AMS-MML_SVG\"></script><script type=\"text/javascript\">if (window.MathJax && window.MathJax.Hub && window.MathJax.Hub.Config) {window.MathJax.Hub.Config({SVG: {font: \"STIX-Web\"}});}</script>                <script type=\"text/javascript\">window.PlotlyConfig = {MathJaxConfig: 'local'};</script>\n",
              "        <script charset=\"utf-8\" src=\"https://cdn.plot.ly/plotly-2.24.1.min.js\"></script>                <div id=\"32df2eed-4549-4d77-9001-8e59de7f8077\" class=\"plotly-graph-div\" style=\"height:525px; width:100%;\"></div>            <script type=\"text/javascript\">                                    window.PLOTLYENV=window.PLOTLYENV || {};                                    if (document.getElementById(\"32df2eed-4549-4d77-9001-8e59de7f8077\")) {                    Plotly.newPlot(                        \"32df2eed-4549-4d77-9001-8e59de7f8077\",                        [{\"marker\":{\"color\":\"#18a611\",\"size\":4},\"mode\":\"markers+text\",\"x\":[0,14.0,14.0,0,0,14.0,14.0,0,0,0,14.0,14.0,14.0,14.0,0,0],\"y\":[0,0,13.0,13.0,0,0,13.0,13.0,0,0,0,0,13.0,13.0,13.0,13.0],\"z\":[0,0,0,0,15.0,15.0,15.0,15.0,0,15.0,0,15.0,0,15.0,0,15.0],\"type\":\"scatter3d\"},{\"marker\":{\"color\":\"#c3bc4f\",\"size\":4},\"mode\":\"markers+text\",\"x\":[0,26.0,26.0,0,0,26.0,26.0,0,0,0,26.0,26.0,26.0,26.0,0,0],\"y\":[0,0,24.0,24.0,0,0,24.0,24.0,0,0,0,0,24.0,24.0,24.0,24.0],\"z\":[0,0,0,0,25.0,25.0,25.0,25.0,0,25.0,0,25.0,0,25.0,0,25.0],\"type\":\"scatter3d\"}],                        {\"template\":{\"data\":{\"histogram2dcontour\":[{\"type\":\"histogram2dcontour\",\"colorbar\":{\"outlinewidth\":0,\"ticks\":\"\"},\"colorscale\":[[0.0,\"#0d0887\"],[0.1111111111111111,\"#46039f\"],[0.2222222222222222,\"#7201a8\"],[0.3333333333333333,\"#9c179e\"],[0.4444444444444444,\"#bd3786\"],[0.5555555555555556,\"#d8576b\"],[0.6666666666666666,\"#ed7953\"],[0.7777777777777778,\"#fb9f3a\"],[0.8888888888888888,\"#fdca26\"],[1.0,\"#f0f921\"]]}],\"choropleth\":[{\"type\":\"choropleth\",\"colorbar\":{\"outlinewidth\":0,\"ticks\":\"\"}}],\"histogram2d\":[{\"type\":\"histogram2d\",\"colorbar\":{\"outlinewidth\":0,\"ticks\":\"\"},\"colorscale\":[[0.0,\"#0d0887\"],[0.1111111111111111,\"#46039f\"],[0.2222222222222222,\"#7201a8\"],[0.3333333333333333,\"#9c179e\"],[0.4444444444444444,\"#bd3786\"],[0.5555555555555556,\"#d8576b\"],[0.6666666666666666,\"#ed7953\"],[0.7777777777777778,\"#fb9f3a\"],[0.8888888888888888,\"#fdca26\"],[1.0,\"#f0f921\"]]}],\"heatmap\":[{\"type\":\"heatmap\",\"colorbar\":{\"outlinewidth\":0,\"ticks\":\"\"},\"colorscale\":[[0.0,\"#0d0887\"],[0.1111111111111111,\"#46039f\"],[0.2222222222222222,\"#7201a8\"],[0.3333333333333333,\"#9c179e\"],[0.4444444444444444,\"#bd3786\"],[0.5555555555555556,\"#d8576b\"],[0.6666666666666666,\"#ed7953\"],[0.7777777777777778,\"#fb9f3a\"],[0.8888888888888888,\"#fdca26\"],[1.0,\"#f0f921\"]]}],\"heatmapgl\":[{\"type\":\"heatmapgl\",\"colorbar\":{\"outlinewidth\":0,\"ticks\":\"\"},\"colorscale\":[[0.0,\"#0d0887\"],[0.1111111111111111,\"#46039f\"],[0.2222222222222222,\"#7201a8\"],[0.3333333333333333,\"#9c179e\"],[0.4444444444444444,\"#bd3786\"],[0.5555555555555556,\"#d8576b\"],[0.6666666666666666,\"#ed7953\"],[0.7777777777777778,\"#fb9f3a\"],[0.8888888888888888,\"#fdca26\"],[1.0,\"#f0f921\"]]}],\"contourcarpet\":[{\"type\":\"contourcarpet\",\"colorbar\":{\"outlinewidth\":0,\"ticks\":\"\"}}],\"contour\":[{\"type\":\"contour\",\"colorbar\":{\"outlinewidth\":0,\"ticks\":\"\"},\"colorscale\":[[0.0,\"#0d0887\"],[0.1111111111111111,\"#46039f\"],[0.2222222222222222,\"#7201a8\"],[0.3333333333333333,\"#9c179e\"],[0.4444444444444444,\"#bd3786\"],[0.5555555555555556,\"#d8576b\"],[0.6666666666666666,\"#ed7953\"],[0.7777777777777778,\"#fb9f3a\"],[0.8888888888888888,\"#fdca26\"],[1.0,\"#f0f921\"]]}],\"surface\":[{\"type\":\"surface\",\"colorbar\":{\"outlinewidth\":0,\"ticks\":\"\"},\"colorscale\":[[0.0,\"#0d0887\"],[0.1111111111111111,\"#46039f\"],[0.2222222222222222,\"#7201a8\"],[0.3333333333333333,\"#9c179e\"],[0.4444444444444444,\"#bd3786\"],[0.5555555555555556,\"#d8576b\"],[0.6666666666666666,\"#ed7953\"],[0.7777777777777778,\"#fb9f3a\"],[0.8888888888888888,\"#fdca26\"],[1.0,\"#f0f921\"]]}],\"mesh3d\":[{\"type\":\"mesh3d\",\"colorbar\":{\"outlinewidth\":0,\"ticks\":\"\"}}],\"scatter\":[{\"fillpattern\":{\"fillmode\":\"overlay\",\"size\":10,\"solidity\":0.2},\"type\":\"scatter\"}],\"parcoords\":[{\"type\":\"parcoords\",\"line\":{\"colorbar\":{\"outlinewidth\":0,\"ticks\":\"\"}}}],\"scatterpolargl\":[{\"type\":\"scatterpolargl\",\"marker\":{\"colorbar\":{\"outlinewidth\":0,\"ticks\":\"\"}}}],\"bar\":[{\"error_x\":{\"color\":\"#2a3f5f\"},\"error_y\":{\"color\":\"#2a3f5f\"},\"marker\":{\"line\":{\"color\":\"#E5ECF6\",\"width\":0.5},\"pattern\":{\"fillmode\":\"overlay\",\"size\":10,\"solidity\":0.2}},\"type\":\"bar\"}],\"scattergeo\":[{\"type\":\"scattergeo\",\"marker\":{\"colorbar\":{\"outlinewidth\":0,\"ticks\":\"\"}}}],\"scatterpolar\":[{\"type\":\"scatterpolar\",\"marker\":{\"colorbar\":{\"outlinewidth\":0,\"ticks\":\"\"}}}],\"histogram\":[{\"marker\":{\"pattern\":{\"fillmode\":\"overlay\",\"size\":10,\"solidity\":0.2}},\"type\":\"histogram\"}],\"scattergl\":[{\"type\":\"scattergl\",\"marker\":{\"colorbar\":{\"outlinewidth\":0,\"ticks\":\"\"}}}],\"scatter3d\":[{\"type\":\"scatter3d\",\"line\":{\"colorbar\":{\"outlinewidth\":0,\"ticks\":\"\"}},\"marker\":{\"colorbar\":{\"outlinewidth\":0,\"ticks\":\"\"}}}],\"scattermapbox\":[{\"type\":\"scattermapbox\",\"marker\":{\"colorbar\":{\"outlinewidth\":0,\"ticks\":\"\"}}}],\"scatterternary\":[{\"type\":\"scatterternary\",\"marker\":{\"colorbar\":{\"outlinewidth\":0,\"ticks\":\"\"}}}],\"scattercarpet\":[{\"type\":\"scattercarpet\",\"marker\":{\"colorbar\":{\"outlinewidth\":0,\"ticks\":\"\"}}}],\"carpet\":[{\"aaxis\":{\"endlinecolor\":\"#2a3f5f\",\"gridcolor\":\"white\",\"linecolor\":\"white\",\"minorgridcolor\":\"white\",\"startlinecolor\":\"#2a3f5f\"},\"baxis\":{\"endlinecolor\":\"#2a3f5f\",\"gridcolor\":\"white\",\"linecolor\":\"white\",\"minorgridcolor\":\"white\",\"startlinecolor\":\"#2a3f5f\"},\"type\":\"carpet\"}],\"table\":[{\"cells\":{\"fill\":{\"color\":\"#EBF0F8\"},\"line\":{\"color\":\"white\"}},\"header\":{\"fill\":{\"color\":\"#C8D4E3\"},\"line\":{\"color\":\"white\"}},\"type\":\"table\"}],\"barpolar\":[{\"marker\":{\"line\":{\"color\":\"#E5ECF6\",\"width\":0.5},\"pattern\":{\"fillmode\":\"overlay\",\"size\":10,\"solidity\":0.2}},\"type\":\"barpolar\"}],\"pie\":[{\"automargin\":true,\"type\":\"pie\"}]},\"layout\":{\"autotypenumbers\":\"strict\",\"colorway\":[\"#636efa\",\"#EF553B\",\"#00cc96\",\"#ab63fa\",\"#FFA15A\",\"#19d3f3\",\"#FF6692\",\"#B6E880\",\"#FF97FF\",\"#FECB52\"],\"font\":{\"color\":\"#2a3f5f\"},\"hovermode\":\"closest\",\"hoverlabel\":{\"align\":\"left\"},\"paper_bgcolor\":\"white\",\"plot_bgcolor\":\"#E5ECF6\",\"polar\":{\"bgcolor\":\"#E5ECF6\",\"angularaxis\":{\"gridcolor\":\"white\",\"linecolor\":\"white\",\"ticks\":\"\"},\"radialaxis\":{\"gridcolor\":\"white\",\"linecolor\":\"white\",\"ticks\":\"\"}},\"ternary\":{\"bgcolor\":\"#E5ECF6\",\"aaxis\":{\"gridcolor\":\"white\",\"linecolor\":\"white\",\"ticks\":\"\"},\"baxis\":{\"gridcolor\":\"white\",\"linecolor\":\"white\",\"ticks\":\"\"},\"caxis\":{\"gridcolor\":\"white\",\"linecolor\":\"white\",\"ticks\":\"\"}},\"coloraxis\":{\"colorbar\":{\"outlinewidth\":0,\"ticks\":\"\"}},\"colorscale\":{\"sequential\":[[0.0,\"#0d0887\"],[0.1111111111111111,\"#46039f\"],[0.2222222222222222,\"#7201a8\"],[0.3333333333333333,\"#9c179e\"],[0.4444444444444444,\"#bd3786\"],[0.5555555555555556,\"#d8576b\"],[0.6666666666666666,\"#ed7953\"],[0.7777777777777778,\"#fb9f3a\"],[0.8888888888888888,\"#fdca26\"],[1.0,\"#f0f921\"]],\"sequentialminus\":[[0.0,\"#0d0887\"],[0.1111111111111111,\"#46039f\"],[0.2222222222222222,\"#7201a8\"],[0.3333333333333333,\"#9c179e\"],[0.4444444444444444,\"#bd3786\"],[0.5555555555555556,\"#d8576b\"],[0.6666666666666666,\"#ed7953\"],[0.7777777777777778,\"#fb9f3a\"],[0.8888888888888888,\"#fdca26\"],[1.0,\"#f0f921\"]],\"diverging\":[[0,\"#8e0152\"],[0.1,\"#c51b7d\"],[0.2,\"#de77ae\"],[0.3,\"#f1b6da\"],[0.4,\"#fde0ef\"],[0.5,\"#f7f7f7\"],[0.6,\"#e6f5d0\"],[0.7,\"#b8e186\"],[0.8,\"#7fbc41\"],[0.9,\"#4d9221\"],[1,\"#276419\"]]},\"xaxis\":{\"gridcolor\":\"white\",\"linecolor\":\"white\",\"ticks\":\"\",\"title\":{\"standoff\":15},\"zerolinecolor\":\"white\",\"automargin\":true,\"zerolinewidth\":2},\"yaxis\":{\"gridcolor\":\"white\",\"linecolor\":\"white\",\"ticks\":\"\",\"title\":{\"standoff\":15},\"zerolinecolor\":\"white\",\"automargin\":true,\"zerolinewidth\":2},\"scene\":{\"xaxis\":{\"backgroundcolor\":\"#E5ECF6\",\"gridcolor\":\"white\",\"linecolor\":\"white\",\"showbackground\":true,\"ticks\":\"\",\"zerolinecolor\":\"white\",\"gridwidth\":2},\"yaxis\":{\"backgroundcolor\":\"#E5ECF6\",\"gridcolor\":\"white\",\"linecolor\":\"white\",\"showbackground\":true,\"ticks\":\"\",\"zerolinecolor\":\"white\",\"gridwidth\":2},\"zaxis\":{\"backgroundcolor\":\"#E5ECF6\",\"gridcolor\":\"white\",\"linecolor\":\"white\",\"showbackground\":true,\"ticks\":\"\",\"zerolinecolor\":\"white\",\"gridwidth\":2}},\"shapedefaults\":{\"line\":{\"color\":\"#2a3f5f\"}},\"annotationdefaults\":{\"arrowcolor\":\"#2a3f5f\",\"arrowhead\":0,\"arrowwidth\":1},\"geo\":{\"bgcolor\":\"white\",\"landcolor\":\"#E5ECF6\",\"subunitcolor\":\"white\",\"showland\":true,\"showlakes\":true,\"lakecolor\":\"white\"},\"title\":{\"x\":0.05},\"mapbox\":{\"style\":\"light\"}}},\"scene\":{\"xaxis\":{\"range\":[0,30.0]},\"yaxis\":{\"range\":[0,40.0]},\"zaxis\":{\"range\":[0,50.0]}}},                        {\"responsive\": true}                    ).then(function(){\n",
              "                            \n",
              "var gd = document.getElementById('32df2eed-4549-4d77-9001-8e59de7f8077');\n",
              "var x = new MutationObserver(function (mutations, observer) {{\n",
              "        var display = window.getComputedStyle(gd).display;\n",
              "        if (!display || display === 'none') {{\n",
              "            console.log([gd, 'removed!']);\n",
              "            Plotly.purge(gd);\n",
              "            observer.disconnect();\n",
              "        }}\n",
              "}});\n",
              "\n",
              "// Listen for the removal of the full notebook cells\n",
              "var notebookContainer = gd.closest('#notebook-container');\n",
              "if (notebookContainer) {{\n",
              "    x.observe(notebookContainer, {childList: true});\n",
              "}}\n",
              "\n",
              "// Listen for the clearing of the current output cell\n",
              "var outputEl = gd.closest('.output');\n",
              "if (outputEl) {{\n",
              "    x.observe(outputEl, {childList: true});\n",
              "}}\n",
              "\n",
              "                        })                };                            </script>        </div>\n",
              "</body>\n",
              "</html>"
            ]
          },
          "metadata": {}
        }
      ]
    },
    {
      "cell_type": "markdown",
      "source": [
        "##outra coisa\n"
      ],
      "metadata": {
        "id": "e_F4TOZs8lCB"
      }
    },
    {
      "cell_type": "code",
      "source": [
        "import numpy as np\n",
        "import tensorflow as tf\n",
        "from sklearn.model_selection import train_test_split\n",
        "from sklearn.preprocessing import LabelEncoder\n",
        "\n",
        "# Função para treinar um modelo local em um dispositivo federado\n",
        "def treinar_modelo_local(X, y):\n",
        "    modelo_local = tf.keras.Sequential([\n",
        "        tf.keras.layers.Input(shape=(3,)),  # Três atributos para as dimensões das caixas\n",
        "        tf.keras.layers.Dense(64, activation='relu'),\n",
        "        tf.keras.layers.Dense(32, activation='relu'),\n",
        "        tf.keras.layers.Dense(3, activation='softmax')  # Três classes: pequeno, médio e grande\n",
        "    ])\n",
        "\n",
        "    modelo_local.compile(optimizer='adam', loss='sparse_categorical_crossentropy', metrics=['accuracy'])\n",
        "\n",
        "    modelo_local.fit(X, y, epochs=50, batch_size=2, verbose=0)\n",
        "\n",
        "    return modelo_local\n",
        "\n",
        "# Dados de treinamento fictícios para dois dispositivos federados (exemplo)\n",
        "dados_loja1 = np.array([[1, 2, 3], [2, 3, 4], [3, 4, 5]])\n",
        "categorias_loja1 = np.array([0, 1, 1])  # Categorias codificadas como números inteiros\n",
        "\n",
        "dados_loja2 = np.array([[4, 5, 6], [2, 3, 4], [3, 4, 5]])\n",
        "categorias_loja2 = np.array([2, 1, 1])  # Categorias codificadas como números inteiros\n",
        "\n",
        "# Treinamento de modelos locais para cada dispositivo federado\n",
        "modelo_loja1 = treinar_modelo_local(dados_loja1, categorias_loja1)\n",
        "modelo_loja2 = treinar_modelo_local(dados_loja2, categorias_loja2)\n",
        "\n",
        "# Agregação de modelos locais para criar um modelo global\n",
        "def criar_modelo_global(modelos_locais):\n",
        "    # Combine os pesos de todos os modelos locais em uma lista\n",
        "    todos_pesos = [modelo.get_weights() for modelo in modelos_locais]\n",
        "\n",
        "    # Calcule a média dos pesos\n",
        "    pesos_globais = [np.mean(peso_local, axis=0) for peso_local in zip(*todos_pesos)]\n",
        "\n",
        "    # Crie um modelo global com a mesma arquitetura do primeiro modelo local\n",
        "    modelo_global = treinar_modelo_local(dados_loja1, categorias_loja1)\n",
        "\n",
        "    # Atribua os pesos globais ao modelo global\n",
        "    modelo_global.set_weights(pesos_globais)\n",
        "\n",
        "    return modelo_global\n",
        "\n",
        "# Agregação de modelos locais para criar um modelo global\n",
        "modelos_locais = [modelo_loja1, modelo_loja2]\n",
        "modelo_global = criar_modelo_global(modelos_locais)\n",
        "\n",
        "# Exemplo de uso do modelo global\n",
        "caixas_a_organizar = np.array([[2, 3, 4], [3, 4, 5], [1, 2, 3]])\n",
        "categorias_previstas = modelo_global.predict(caixas_a_organizar)\n",
        "categorias_previstas_decodificadas = encoder.inverse_transform(np.argmax(categorias_previstas, axis=1))\n",
        "\n",
        "print(\"Previsões para as caixas usando o modelo global:\")\n",
        "for caixa, previsao in zip(caixas_a_organizar, categorias_previstas_decodificadas):\n",
        "    print(f\"Caixa {caixa} -> Categoria: {previsao}\")\n"
      ],
      "metadata": {
        "colab": {
          "base_uri": "https://localhost:8080/"
        },
        "id": "9WsOHBVa1loX",
        "outputId": "b20469f1-8820-443c-c082-76bf2bc0a0ce"
      },
      "execution_count": 35,
      "outputs": [
        {
          "output_type": "stream",
          "name": "stdout",
          "text": [
            "1/1 [==============================] - 0s 72ms/step\n",
            "Previsões para as caixas usando o modelo global:\n",
            "Caixa [2 3 4] -> Categoria: médio\n",
            "Caixa [3 4 5] -> Categoria: médio\n",
            "Caixa [1 2 3] -> Categoria: médio\n"
          ]
        }
      ]
    }
  ]
}